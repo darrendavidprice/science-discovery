{
 "cells": [
  {
   "cell_type": "markdown",
   "metadata": {},
   "source": [
    "#  Contour plots in matplotlib\n",
    "\n",
    "\n",
    "Brief:  Demonstration of how to plot line and filled contours using pyplot.\n",
    "\n",
    "Author: Stephen Menary (sbmenary@gmail.com)"
   ]
  },
  {
   "cell_type": "code",
   "execution_count": 1,
   "metadata": {},
   "outputs": [],
   "source": [
    "#  Required imports\n",
    "\n",
    "import matplotlib.pyplot  as plt\n",
    "from   matplotlib.lines   import Line2D\n",
    "from   matplotlib.patches import Patch\n",
    "import numpy as np"
   ]
  },
  {
   "cell_type": "code",
   "execution_count": 2,
   "metadata": {},
   "outputs": [
    {
     "name": "stdout",
     "output_type": "stream",
     "text": [
      "X-axis with shape (8,)\n",
      "Y-axis with shape (6,)\n",
      "X-mesh with shape (6, 8)\n",
      "Y-mesh with shape (6, 8)\n"
     ]
    }
   ],
   "source": [
    "#  First we create values for the x- and y-axis values\n",
    "\n",
    "grid_x_axis = np.array([100, 250, 300, 350, 400, 450, 500, 600])\n",
    "grid_y_axis = np.array([2, 4, 6, 8, 10, 12])\n",
    "\n",
    "print(f\"X-axis with shape {grid_x_axis.shape}\")\n",
    "print(f\"Y-axis with shape {grid_y_axis.shape}\")\n",
    "\n",
    "\n",
    "#  Now we turn these into meshgrids using the np.meshgrid function\n",
    "#  -  meshgrid_x will be a 2D-object which respresents the x-coordinate of every point\n",
    "#  -  meshgrid_y will be a 2D-object which respresents the y-coordinate of every point\n",
    "#  -  note that the shape of meshgrid is [y, x]\n",
    "\n",
    "meshgrid_x, meshgrid_y = np.meshgrid(grid_x_axis, grid_y_axis)\n",
    "\n",
    "print(f\"X-mesh with shape {meshgrid_x.shape}\")\n",
    "print(f\"Y-mesh with shape {meshgrid_y.shape}\")"
   ]
  },
  {
   "cell_type": "code",
   "execution_count": 3,
   "metadata": {},
   "outputs": [
    {
     "name": "stdout",
     "output_type": "stream",
     "text": [
      "Z-values are:\n",
      "    0.00    0.09    0.16    0.25    0.36    0.49    0.64    1.00\n",
      "    0.00    0.07    0.13    0.20    0.29    0.39    0.51    0.80\n",
      "    0.00    0.05    0.10    0.15    0.22    0.29    0.38    0.60\n",
      "    0.00    0.04    0.06    0.10    0.14    0.20    0.26    0.40\n",
      "    0.00    0.02    0.03    0.05    0.07    0.10    0.13    0.20\n",
      "    0.00    0.00    0.00    0.00    0.00    0.00    0.00    0.00\n"
     ]
    }
   ],
   "source": [
    "#  Create function for printing z-values\n",
    "\n",
    "def print_z (z) :\n",
    "    shape = z.shape\n",
    "    for i in range(shape[0]-1, -1, -1) :\n",
    "        str_row = \"\"\n",
    "        for j in range(shape[1]) :\n",
    "            str_row = str_row + f\"    {z[i,j]:.2f}\"\n",
    "        print(str_row)\n",
    "\n",
    "#  Create some fake z-values\n",
    "\n",
    "meshgrid_z = np.zeros(shape=meshgrid_x.shape)\n",
    "for i, x in enumerate(grid_x_axis) :\n",
    "    for j, y in enumerate(grid_y_axis) :\n",
    "        meshgrid_z [j, i] = np.power((x-100.)/500., 2.) * (y-2.)/10.\n",
    "\n",
    "#  Print z-values\n",
    "\n",
    "print(\"Z-values are:\")\n",
    "print_z(meshgrid_z) "
   ]
  },
  {
   "cell_type": "code",
   "execution_count": 4,
   "metadata": {},
   "outputs": [
    {
     "data": {
      "image/png": "[encoded data removed]",
      "text/plain": [
       "<Figure size 576x360 with 1 Axes>"
      ]
     },
     "metadata": {
      "needs_background": "light"
     },
     "output_type": "display_data"
    }
   ],
   "source": [
    "#  Make quick contour plot\n",
    "\n",
    "fig = plt.figure(figsize=(8,5))\n",
    "ax  = fig.add_subplot(1, 1, 1)\n",
    "\n",
    "#  Make filled areas between z contours of 0.1, 0.15, 0.25 and 0.3\n",
    "plt.contourf(meshgrid_x, meshgrid_y, meshgrid_z, [0.1, 0.15, 0.25, 0.3], linestyles=None, colors=[\"gold\", \"darkorange\", \"gold\"])\n",
    "\n",
    "#  Make z contour line at 0.2\n",
    "plt.contour (meshgrid_x, meshgrid_y, meshgrid_z, [0.2], linestyles=\"dashed\", colors=[\"purple\"], linewidths=3)\n",
    "\n",
    "#  Make legend by hand\n",
    "plt.legend([Line2D([0], [0], color=\"purple\"    , lw=3),\n",
    "            Patch (          color=\"gold\"      , linestyle=None), \n",
    "            Patch (          color=\"darkorange\", linestyle=None)],\n",
    "           [\"Z = 0.2\", \"0.15 < Z < 0.25\", \"0.1 < Z 0.3\"],\n",
    "           loc=\"lower left\",\n",
    "           fontsize=15)\n",
    "\n",
    "plt.show()"
   ]
  }
 ],
 "metadata": {
  "kernelspec": {
   "display_name": "Python 3",
   "language": "python",
   "name": "python3"
  },
  "language_info": {
   "codemirror_mode": {
    "name": "ipython",
    "version": 3
   },
   "file_extension": ".py",
   "mimetype": "text/x-python",
   "name": "python",
   "nbconvert_exporter": "python",
   "pygments_lexer": "ipython3",
   "version": "3.7.3"
  }
 },
 "nbformat": 4,
 "nbformat_minor": 2
}
