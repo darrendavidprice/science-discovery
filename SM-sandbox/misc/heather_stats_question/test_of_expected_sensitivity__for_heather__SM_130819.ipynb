{
 "cells": [
  {
   "cell_type": "markdown",
   "metadata": {},
   "source": [
    "#  Study: expected sensitivity for a signal yield extraction from binned independent data\n",
    "\n",
    "###  Code & stats by Stephen Menary, for analysis by Heather Russell\n",
    "\n",
    "The following notebook runs through some studies aimed at evaluating the expected sensitivity for a signal fit to several binned event yields (with diagonal Poisson variance). Analysis performed is:\n",
    "\n",
    "1. Plot expected bkg-only and sig+bkg (s+b) models\n",
    "2. Use a simple $\\chi^2$ test statistic (comparing the Asimov s+b dataset with the bkg-only hypothesis) to estimate the ball-park sensitivity. The $\\chi^2$ will *not* be the test statistic with optimum exclusion power. It is just a useful and simple test. The most powerful test-statistic (for excluding the NULL hypothesis) will be the likelihood ratio.\n",
    "3. Perform a likelihood ratio scan using the Asimov s+b dataset. Evaluating this at s=0 (the NULL) provides an estimate of the p-value we expect when using this test statistic.\n",
    "4. Step 3 used Wilk's theorem. This makes the asymptotic approximation (it assumes infinite sample size). This theorem states that the likelihood-ratio (between the test-s and max-likelihood-estimate (MLE)) follows a chi2 distribution with (in our case) 1 degree of freedom. We now use toys to test this approximation at the NULL hypothesis. This demonstrates that the p-value calculated in step 3 is reliable.\n",
    "5. We throw toys around the s+b hypothesis to estimate the expected sensitivity for the measured s.\n",
    "\n",
    "Steps 3-5 seem to agree pretty well, and estimate the expected sensitivity to be around 4.6 sigma."
   ]
  },
  {
   "cell_type": "markdown",
   "metadata": {},
   "source": [
    "\n",
    "\n",
    "# Step 0: Import modules and load data"
   ]
  },
  {
   "cell_type": "code",
   "execution_count": 1,
   "metadata": {},
   "outputs": [],
   "source": [
    "# ====================================\n",
    "#    Import modules\n",
    "# ====================================\n",
    "\n",
    "\n",
    "import numpy             as     np\n",
    "import matplotlib.pyplot as     plt\n",
    "from   scipy             import stats\n",
    "from   iminuit           import Minuit"
   ]
  },
  {
   "cell_type": "code",
   "execution_count": 2,
   "metadata": {},
   "outputs": [],
   "source": [
    "# ===============================================\n",
    "#    Load expected bkg and signal models\n",
    "# ===============================================\n",
    "\n",
    "\n",
    "exp_sig_vals   = np.array([139.926, -227.749, 211.874, -142.295])\n",
    "exp_bkg_vals   = np.array([5973.95, 5807.87 , 7684.87, 5956.26 ])\n",
    "exp_total_vals = exp_bkg_vals + exp_sig_vals\n",
    "\n",
    "exp_bkg_errs   = np.sqrt(exp_bkg_vals  )\n",
    "exp_total_errs = np.sqrt(exp_total_vals)\n",
    "\n",
    "bin_indices = np.arange(len(exp_total_vals))\n",
    "nDoF        = len(bin_indices)"
   ]
  },
  {
   "cell_type": "markdown",
   "metadata": {},
   "source": [
    "\n",
    "\n",
    "\n",
    "# Step 1: plot bkg-only and s+b models"
   ]
  },
  {
   "cell_type": "code",
   "execution_count": 3,
   "metadata": {},
   "outputs": [
    {
     "data": {
      "image/png": "[encoded data removed]",
      "text/plain": [
       "<Figure size 432x288 with 1 Axes>"
      ]
     },
     "metadata": {
      "needs_background": "light"
     },
     "output_type": "display_data"
    }
   ],
   "source": [
    "# ====================================\n",
    "#    PLOT BKG and SIG+BKG MODELS\n",
    "# ====================================\n",
    "\n",
    "\n",
    "%matplotlib inline\n",
    "fig = plt.figure()\n",
    "ax = fig.add_subplot(111)\n",
    "\n",
    "ax.errorbar(bin_indices, exp_total_vals, yerr=exp_total_errs, marker='o', linestyle='', label=\"Expected (signal + bkg)\")\n",
    "ax.errorbar(bin_indices, exp_bkg_vals  , yerr=exp_bkg_errs  , marker='x', linestyle='', label=\"Expected (bkg only)\")\n",
    "\n",
    "ax.set_ylabel(\"Events\")\n",
    "ax.set_xlabel(\"Bin index\")\n",
    "plt.legend()\n",
    "plt.show()"
   ]
  },
  {
   "cell_type": "markdown",
   "metadata": {},
   "source": [
    "# Step 2: simple estimate of sensitivity using $\\chi^2$ test statistic"
   ]
  },
  {
   "cell_type": "code",
   "execution_count": 4,
   "metadata": {},
   "outputs": [
    {
     "name": "stdout",
     "output_type": "stream",
     "text": [
      "==========================================================================================\n",
      "    Asimov(s+b) vs. NULL hypothesis:  chi2    =  21.4  with  4 degrees of freedom\n",
      "                                      p-value =  0.03%\n",
      "                                      2-sided Gaussian significance =  3.7 sigma\n",
      "    This gives us a ball-park to cross check with later, and demonstrates that we have\n",
      "    sensitivity to the signal. If this wasn't the case then something like CLs would be\n",
      "    needed to avoid excluding models for which our experiment was not sensitive.\n",
      "==========================================================================================\n"
     ]
    }
   ],
   "source": [
    "# ====================================================================================\n",
    "#    Simple estimate of: sensitivity of NULL-hypothesis test if sig+bkg model true\n",
    "#    -  using Asimov for s+b expectation\n",
    "#    -  using chi2-vs-bkg-hypothesis as test statistic\n",
    "#    -  calculating chi2 using \"exp_bkg_errs\" rather than \"exp_total_errs\", since we\n",
    "#       would expect event yields to be drawn from a Poisson of mean \"exp_bkg_vals[bin index]\"\n",
    "#       *if the bkg-only hypothesis were true*, therefore \"exp_bkg_errs\" is a suitable\n",
    "#       Gaussian width for this hypothesis test\n",
    "# ====================================================================================\n",
    "\n",
    "\n",
    "def get_chi2_uncorrelated (y1, y2, ey1, ey2=None) :\n",
    "    cov_diag = np.multiply(ey1, ey1)\n",
    "    if ey2 is not None : cov_diag = cov_diag + np.multiply(ey2, ey2)\n",
    "    res = y2 - y1\n",
    "    return np.sum(np.divide(np.multiply(res, res), cov_diag))\n",
    "\n",
    "def get_equiv_two_sided_gauss_significance (p, resolution=0.1, sigma_max = 8.) :\n",
    "    x = np.linspace(sigma_max, 0, 1+int(sigma_max/resolution))\n",
    "    y = 2.*(1. - stats.norm.cdf(x))\n",
    "    return np.interp([p], y, x)[0]\n",
    "\n",
    "chi2_sb_vs_bkg   = get_chi2_uncorrelated(exp_total_vals, exp_bkg_vals, exp_bkg_errs)\n",
    "p_chi2_sb_vs_bkg = 1. - stats.chi2.cdf(chi2_sb_vs_bkg, nDoF)\n",
    "z_chi2_sb_vs_bkg = get_equiv_two_sided_gauss_significance(p_chi2_sb_vs_bkg)\n",
    "print(\"=\"*90)\n",
    "print(f\"    Asimov(s+b) vs. NULL hypothesis:  chi2    =  {chi2_sb_vs_bkg:.1f}  with  {nDoF} degrees of freedom\")\n",
    "print(f\"                                      p-value =  {100.*p_chi2_sb_vs_bkg:.2f}%\")\n",
    "print(f\"                                      2-sided Gaussian significance =  {z_chi2_sb_vs_bkg:.1f} sigma\")\n",
    "print(\"    This gives us a ball-park to cross check with later, and demonstrates that we have\")\n",
    "print(\"    sensitivity to the signal. If this wasn't the case then something like CLs would be\")\n",
    "print(\"    needed to avoid excluding models for which our experiment was not sensitive.\")\n",
    "print(\"=\"*90)"
   ]
  },
  {
   "cell_type": "markdown",
   "metadata": {},
   "source": [
    "# Step 3: upgrade to the likelihood-ratio test statistic. Plot a nice likelihood ratio profile for the s+b Asimov dataset. Use Wilk's theorem to estimate the p-value with which we exclude the NULL (bkg-only) hypothesis."
   ]
  },
  {
   "cell_type": "code",
   "execution_count": 5,
   "metadata": {},
   "outputs": [],
   "source": [
    "# ====================================================================================\n",
    "#    Define functions for calculating the likelihood-ratio\n",
    "#    - using Gaussian PDFs to describe the observations in each bin (since we have\n",
    "#      sufficient event yields to use the asymptotic approximation)\n",
    "# ====================================================================================\n",
    "\n",
    "\n",
    "def predicted_yields (s) :\n",
    "    return exp_bkg_vals + s*exp_sig_vals\n",
    "\n",
    "def likelihood (s, data) :\n",
    "    pred = predicted_yields(s)\n",
    "    return np.prod(stats.norm.pdf(data, pred, np.sqrt(pred)))\n",
    "\n",
    "def log_likelihood (s, data) :\n",
    "    return np.log(likelihood(s, data))\n",
    "\n",
    "def TNLL (s, data) :\n",
    "    return -2. * log_likelihood(s, data)\n",
    "\n",
    "def likelihood_ratio (s1, s2, data) :\n",
    "    l1 = likelihood(s1, data)\n",
    "    l2 = likelihood(s2, data)\n",
    "    return l1 / l2\n",
    "\n",
    "def log_of_likelihood_ratio (s1, s2, data) :\n",
    "    return np.log(likelihood_ratio(s1, s2, data))\n",
    "\n",
    "def TNLLR (s1, s2, data) :\n",
    "    return -2. * log_of_likelihood_ratio(s1, s2, data)"
   ]
  },
  {
   "cell_type": "code",
   "execution_count": 6,
   "metadata": {},
   "outputs": [
    {
     "data": {
      "image/png": "[encoded data removed]",
      "text/plain": [
       "<Figure size 432x288 with 1 Axes>"
      ]
     },
     "metadata": {
      "needs_background": "light"
     },
     "output_type": "display_data"
    }
   ],
   "source": [
    "# ====================================================================================\n",
    "#    Do a scan of the log-likelihood-ratio\n",
    "#    - for Asimov data, so max-likelihood is at s=1 by definition\n",
    "#    - evaluating at s=0 tells us the significance of rejecting the NULL hypothesis\n",
    "#    - no fit needed as we have no nuisance params to marginalise :)\n",
    "#    - BUT if we weren't using Asimov, we would fit for s^best in each dataset as this\n",
    "#      is required for Wilk's theorem to be valid. This is what we will do later.\n",
    "# ====================================================================================\n",
    "\n",
    "\n",
    "x = np.linspace(0, 2, 51)\n",
    "y = [TNLLR(xt, 1., exp_total_vals) for xt in x]\n",
    "\n",
    "fig = plt.figure()\n",
    "ax = fig.add_subplot(111)\n",
    "\n",
    "ax.plot(x, y, linestyle=\"--\", color=\"red\", label=r\"Profile of $-2\\log$ $\\frac{\\mathcal{L}(s)}{\\mathcal{L}(s^{best})}$ (expected by s+b Asimov)\")\n",
    "ax.set_xlim([0, 2])\n",
    "ax.set_ylim([0, y[0]])\n",
    "\n",
    "plt.legend(loc=\"best\")\n",
    "plt.show()"
   ]
  },
  {
   "cell_type": "code",
   "execution_count": 7,
   "metadata": {},
   "outputs": [
    {
     "name": "stdout",
     "output_type": "stream",
     "text": [
      "==============================================================================================================\n",
      "   Using Wilk's theorem [assumes the asymptotic limit of sample size], since Model(s^best) is by-definition\n",
      "   nested within the set of all {Model(s)}. If some s is true then we expect each measured -2LLR(s, s^best) to\n",
      "   be a random number drawn from a chi2 distribution with 1 degree of freedom [because 1 is the number of extra\n",
      "   parameters marginalised in L(s^best) rather than L(s)]. We can therefore use the LLR at s=0 to calculate the\n",
      "   p-value.\n",
      "\n",
      "   We then exclude the NULL hypothesis with a p-value of 0.00036%, or significance of 4.6 sigma\n",
      "==============================================================================================================\n"
     ]
    }
   ],
   "source": [
    "# ====================================================================================\n",
    "#    Use Wilk's theorem to estimate the p-value with which we exclude the NULL\n",
    "#    hypothesis when using the likelihood-ratio as our test statistic\n",
    "# ====================================================================================\n",
    "\n",
    "\n",
    "chi2   = y[0]\n",
    "p_chi2 = 1. - stats.chi2.cdf(chi2, 1)\n",
    "z_chi2 = get_equiv_two_sided_gauss_significance(p_chi2)\n",
    "\n",
    "print(\"=\"*110)\n",
    "print(\"   Using Wilk's theorem [assumes the asymptotic limit of sample size], since Model(s^best) is by-definition\")\n",
    "print(\"   nested within the set of all {Model(s)}. If some s is true then we expect each measured -2LLR(s, s^best) to\")\n",
    "print(\"   be a random number drawn from a chi2 distribution with 1 degree of freedom [because 1 is the number of extra\")\n",
    "print(\"   parameters marginalised in L(s^best) rather than L(s)]. We can therefore use the LLR at s=0 to calculate the\")\n",
    "print(\"   p-value.\\n\")\n",
    "print(f\"   We then exclude the NULL hypothesis with a p-value of {100.*p_chi2:.5f}%, or significance of {z_chi2:.1f} sigma\")\n",
    "print(\"=\"*110)"
   ]
  },
  {
   "cell_type": "markdown",
   "metadata": {},
   "source": [
    "# Step 4: Throw toys around the bkg-only hypothesis. Use these to calculate the expected distribution of the likelihood-ratio. This demonstrates that Wilk's theorem is valid."
   ]
  },
  {
   "cell_type": "code",
   "execution_count": 12,
   "metadata": {},
   "outputs": [],
   "source": [
    "# ====================================================================================\n",
    "#    Wilk's theorem assumed that the test-statistic follows a chi2 distribution. We\n",
    "#    now prove this assumption by throwing toys around the bkg-only hypothesis and\n",
    "#    overlaying it with the chi2 pdf function.\n",
    "# ====================================================================================\n",
    "\n",
    "\n",
    "test_val = np.array([1, 4, 9, 25])\n",
    "test_err = np.sqrt(test_val)\n",
    "\n",
    "n_toys = 10000\n",
    "np.random.seed(100)\n",
    "shifts = np.random.normal(size=(n_toys, len(test_val)))\n",
    "toys_bkg, toys_sb = [], []\n",
    "for shift in shifts :\n",
    "    toys_bkg.append(exp_bkg_vals   + np.multiply(exp_bkg_errs  , shift))\n",
    "    toys_sb .append(exp_total_vals + np.multiply(exp_total_errs, shift))\n",
    "\n",
    "TNLLR_bkg_toys = []\n",
    "for toy_bkg in toys_bkg :\n",
    "    def eval_func(s) : return TNLL(s, toy_bkg)\n",
    "    m = Minuit(eval_func, s=1, error_s=0.5, errordef=1)\n",
    "    m.migrad()\n",
    "    TNLLR_bkg_toys.append(TNLLR(0, m.values[0], toy_bkg))"
   ]
  },
  {
   "cell_type": "code",
   "execution_count": 9,
   "metadata": {},
   "outputs": [
    {
     "data": {
      "image/png": "[encoded data removed]",
      "text/plain": [
       "<Figure size 432x288 with 1 Axes>"
      ]
     },
     "metadata": {
      "needs_background": "light"
     },
     "output_type": "display_data"
    }
   ],
   "source": [
    "#  ... continued from last box, now doing the plotting...\n",
    "\n",
    "bin_edges   = np.linspace(0, 12, 121)\n",
    "bin_centres = np.linspace(0.05, 11.95, 120)\n",
    "plt.hist(TNLLR_bkg_toys, bins=bin_edges, label=\"Toys around bkg-only hypothesis, measured TNLLR\")\n",
    "plt.plot(bin_centres, stats.chi2.pdf(bin_centres, 1)*0.1*n_toys, label=\"$\\chi^2$(nDoF = 1)\")\n",
    "plt.legend(loc=\"upper right\")\n",
    "plt.ylabel(\"prob. density\")\n",
    "plt.xlabel(\"value of test statistic\")\n",
    "plt.gca().set_yscale(\"log\")\n",
    "plt.show()"
   ]
  },
  {
   "cell_type": "markdown",
   "metadata": {},
   "source": [
    "# Step 5: explicitly estimate the expected sensitivity by throwing toys around the s+b hypothesis. In each toy we measure s. The spread of toys provides an estimate of the uncertainty on s, and the ratio is the expected sensitivity (in units of sigma)"
   ]
  },
  {
   "cell_type": "code",
   "execution_count": 10,
   "metadata": {},
   "outputs": [],
   "source": [
    "# ====================================================================================\n",
    "#    We can also use toys to explicitly calculate the expected sensitivity when using\n",
    "#    a likelihood ratio. This will be calculated by throwing toys around the s+b\n",
    "#    hypothesis and measuring s for each one. The average measured s should be 1, and\n",
    "#    we then use the standard deviation of the toy measurements as the expected spread.\n",
    "#    The sensitivity is estimated as mean / spread.\n",
    "# ====================================================================================\n",
    "\n",
    "\n",
    "measured_s_using_sb_toys = []\n",
    "for toy_sb in toys_sb :\n",
    "    def eval_func(s) : return TNLL(s, toy_sb)\n",
    "    m = Minuit(eval_func, s=1, error_s=0.5, errordef=1)\n",
    "    m.migrad()\n",
    "    measured_s_using_sb_toys.append(m.values[0])"
   ]
  },
  {
   "cell_type": "code",
   "execution_count": 11,
   "metadata": {},
   "outputs": [
    {
     "name": "stdout",
     "output_type": "stream",
     "text": [
      "==============================================================================================================\n",
      "The mean measured s in s+b toys is 1.003  (cross check: this should be 1)\n",
      "The spread of measured s in s+b toys is 0.215  (our expected uncertainty)\n",
      "The expected sensitivity is therefore mean / spread = 4.7 sigma\n",
      "==============================================================================================================\n"
     ]
    }
   ],
   "source": [
    "sb_expected_mean = np.mean(measured_s_using_sb_toys)\n",
    "sb_expected_std  = np.std (measured_s_using_sb_toys)\n",
    "print(\"=\"*110)\n",
    "print(f\"The mean measured s in s+b toys is {sb_expected_mean:.3f}  (cross check: this should be 1)\")\n",
    "print(f\"The spread of measured s in s+b toys is {sb_expected_std:.3f}  (our expected uncertainty)\")\n",
    "print(f\"The expected sensitivity is therefore mean / spread = {sb_expected_mean/sb_expected_std:.1f} sigma\")\n",
    "print(\"=\"*110)"
   ]
  },
  {
   "cell_type": "code",
   "execution_count": null,
   "metadata": {},
   "outputs": [],
   "source": []
  }
 ],
 "metadata": {
  "kernelspec": {
   "display_name": "Python 3",
   "language": "python",
   "name": "python3"
  },
  "language_info": {
   "codemirror_mode": {
    "name": "ipython",
    "version": 3
   },
   "file_extension": ".py",
   "mimetype": "text/x-python",
   "name": "python",
   "nbconvert_exporter": "python",
   "pygments_lexer": "ipython3",
   "version": "3.7.3"
  }
 },
 "nbformat": 4,
 "nbformat_minor": 2
}
