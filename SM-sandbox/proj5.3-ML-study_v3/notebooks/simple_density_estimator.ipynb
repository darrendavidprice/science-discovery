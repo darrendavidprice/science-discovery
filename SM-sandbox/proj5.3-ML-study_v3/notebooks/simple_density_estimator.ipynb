{
 "cells": [
  {
   "cell_type": "markdown",
   "metadata": {},
   "source": [
    "#   Implementation of simple density estimation\n",
    "\n",
    "Author:  Stephen Menary  (stmenary@cern.ch)"
   ]
  },
  {
   "cell_type": "code",
   "execution_count": 1,
   "metadata": {},
   "outputs": [],
   "source": [
    "import numpy             as     np\n",
    "import matplotlib.pyplot as     plt\n",
    "import scipy.stats       as     stats\n",
    "from   iminuit           import Minuit"
   ]
  },
  {
   "cell_type": "code",
   "execution_count": 209,
   "metadata": {},
   "outputs": [],
   "source": [
    "def forward_pass (x, mean, width) :\n",
    "    return mean + x * width\n",
    "\n",
    "def reverse_pass (x, mean, width) :\n",
    "    return (x - mean) * width\n",
    "\n",
    "class OneDimensionalFlow :\n",
    "    def __init__ (self, num_layers=1) :\n",
    "        self.set_num_layers(num_layers)\n",
    "    def fit (self, dataset) :\n",
    "        def fit_func (params) :\n",
    "            return self.sum_TNLL(dataset, params)\n",
    "        m = Minuit.from_array_func (fit_func,\n",
    "                                    self.params, \n",
    "                                    error    = np.ones(shape=self.params.shape),\n",
    "                                    errordef = 1)\n",
    "        m.migrad(precision=1e-6)\n",
    "        print(m.get_param_states())\n",
    "        self.params = np.array([j for i,j in m.values.items()])\n",
    "    def forward_pass (self, dataset, params=None) :\n",
    "        if type(params) == type(None) :\n",
    "            params = self.params\n",
    "        num_layers = self.num_layers\n",
    "        layer_params = [(params[2*i], params[2*i+1]) for i in range(num_layers)]\n",
    "        transformed_data = dataset\n",
    "        for i in range(num_layers) :\n",
    "            mean, width = layer_params [i]\n",
    "            transformed_data = forward_pass(transformed_data, mean, width)\n",
    "        return transformed_data\n",
    "    def likelihood (self, dataset, params=None) :\n",
    "        return stats.norm.pdf(self.reverse_pass(dataset, params))\n",
    "    def TNLL (self, dataset, params=None) :\n",
    "        return -2. * np.log(self.likelihood(dataset, params))\n",
    "    def reverse_pass (self, dataset, params=None) :\n",
    "        if type(params) == type(None) :\n",
    "            params = self.params\n",
    "        num_layers = self.num_layers\n",
    "        layer_params = [(params[2*i], params[2*i+1]) for i in range(num_layers-1, -1, -1)]\n",
    "        transformed_data = dataset\n",
    "        for i in range(num_layers) :\n",
    "            mean, width = layer_params [i]\n",
    "            transformed_data = reverse_pass(transformed_data, mean, width)\n",
    "        return transformed_data\n",
    "    def set_num_layers (self, num_layers) :\n",
    "        self.num_layers = num_layers\n",
    "        self.params     = np.ones(shape=(2*num_layers,))\n",
    "    def sum_likelihood (self, dataset, params=None) :\n",
    "        return np.sum(self.likelihood(dataset, params))\n",
    "    def sum_TNLL (self, dataset, params=None) :\n",
    "        return np.sum(self.TNLL(dataset, params))\n",
    "            "
   ]
  },
  {
   "cell_type": "code",
   "execution_count": 210,
   "metadata": {},
   "outputs": [],
   "source": [
    "true_params = np.array([10., 2.])\n",
    "dataset = np.random.normal(true_params[0], true_params[1], 10000)\n"
   ]
  },
  {
   "cell_type": "code",
   "execution_count": 216,
   "metadata": {},
   "outputs": [
    {
     "name": "stdout",
     "output_type": "stream",
     "text": [
      "56104.39519472148\n",
      "56141.186149779125\n",
      "57126.3209686701\n",
      "28378.50797232367\n",
      "28415.298927381325\n",
      "27448.827179495012\n"
     ]
    }
   ],
   "source": [
    "def likelihood (x, mean, sigma) :\n",
    "    return stats.norm.pdf(dataset, mean, sigma) / sigma\n",
    "\n",
    "def TNLL (x, mean, sigma) :\n",
    "    return -2. * np.sum(np.log(likelihood(x, mean, sigma)))\n",
    "\n",
    "def fit_func (x, mean, sigma) :\n",
    "    return -1. * np.mean(likelihood(x, mean, sigma))\n",
    "\n",
    "model = OneDimensionalFlow(1)\n",
    "model.params = true_params\n",
    "\n",
    "print(TNLL(dataset, true_params[0]    , true_params[1]))\n",
    "print(TNLL(dataset, true_params[0]+0.1, true_params[1]))\n",
    "print(TNLL(dataset, true_params[0]    , true_params[1]+0.1))\n",
    "\n",
    "print(model.sum_TNLL(dataset, [true_params[0]    , np.log(true_params[1])]))\n",
    "print(model.sum_TNLL(dataset, [true_params[0]+0.1, np.log(true_params[1])]))\n",
    "print(model.sum_TNLL(dataset, [true_params[0]    , np.log(true_params[1]+0.1)]))"
   ]
  },
  {
   "cell_type": "code",
   "execution_count": 214,
   "metadata": {},
   "outputs": [
    {
     "name": "stdout",
     "output_type": "stream",
     "text": [
      "------------------------------------------------------------------------------------------\n",
      "|   | Name |   Value   | Hesse Err | Minos Err- | Minos Err+ | Limit-  | Limit+  | Fixed |\n",
      "------------------------------------------------------------------------------------------\n",
      "| 0 | x0   |    10     |     5     |            |            |         |         |       |\n",
      "| 1 | x1   |    6.1    |    1.4    |            |            |         |         |       |\n",
      "------------------------------------------------------------------------------------------\n"
     ]
    },
    {
     "name": "stderr",
     "output_type": "stream",
     "text": [
      "/usr/local/lib/python3.7/site-packages/ipykernel_launcher.py:33: RuntimeWarning: divide by zero encountered in log\n"
     ]
    }
   ],
   "source": [
    "model = OneDimensionalFlow(1)\n",
    "model.fit(dataset)"
   ]
  },
  {
   "cell_type": "code",
   "execution_count": 215,
   "metadata": {},
   "outputs": [
    {
     "data": {
      "image/png": "[encoded data removed]",
      "text/plain": [
       "<Figure size 432x288 with 1 Axes>"
      ]
     },
     "metadata": {
      "needs_background": "light"
     },
     "output_type": "display_data"
    },
    {
     "data": {
      "image/png": "[encoded data removed]",
      "text/plain": [
       "<Figure size 432x288 with 1 Axes>"
      ]
     },
     "metadata": {
      "needs_background": "light"
     },
     "output_type": "display_data"
    },
    {
     "name": "stdout",
     "output_type": "stream",
     "text": [
      "1.1896019893848846\n",
      "0.9555688487086221\n",
      "0.9238959073284461\n",
      "0.9196094408358234\n"
     ]
    }
   ],
   "source": [
    "plt.hist(dataset, bins=np.linspace(2, 18, 17))\n",
    "plt.show()\n",
    "\n",
    "x = np.linspace(2, 18, 201)\n",
    "y = model.likelihood(x)\n",
    "plt.plot(x, y)\n",
    "plt.show()\n",
    "\n",
    "params = np.array([10., 1.])\n",
    "print(-1. * np.mean(np.log(model.likelihood(dataset, params))))\n",
    "params = np.array([10., 2.])\n",
    "print(-1. * np.mean(np.log(model.likelihood(dataset, params))))\n",
    "params = np.array([10., 3.])\n",
    "print(-1. * np.mean(np.log(model.likelihood(dataset, params))))\n",
    "params = np.array([10., 4.])\n",
    "print(-1. * np.mean(np.log(model.likelihood(dataset, params))))"
   ]
  },
  {
   "cell_type": "code",
   "execution_count": 117,
   "metadata": {},
   "outputs": [
    {
     "data": {
      "image/png": "[encoded data removed]",
      "text/plain": [
       "<Figure size 432x288 with 1 Axes>"
      ]
     },
     "metadata": {
      "needs_background": "light"
     },
     "output_type": "display_data"
    }
   ],
   "source": [
    "x = np.linspace(-4, 4, 201)\n",
    "y = stats.norm.pdf(x)\n",
    "x = model.forward_pass(x)\n",
    "plt.plot(x, y)\n",
    "plt.show()"
   ]
  },
  {
   "cell_type": "code",
   "execution_count": null,
   "metadata": {},
   "outputs": [],
   "source": []
  },
  {
   "cell_type": "code",
   "execution_count": null,
   "metadata": {},
   "outputs": [],
   "source": []
  },
  {
   "cell_type": "code",
   "execution_count": null,
   "metadata": {},
   "outputs": [],
   "source": []
  },
  {
   "cell_type": "code",
   "execution_count": 2,
   "metadata": {},
   "outputs": [
    {
     "data": {
      "text/plain": [
       "'def generate_dataset (n_data) :\\n    AB_mean = np.array([20, 50]).transpose()\\n    A = np.random.normal(0, 5, n_data)\\n    B = np.random.normal(0, 10, n_data)\\n    AB = []\\n    theta = np.pi/6\\n    rotation = np.array([[np.cos(theta), np.sin(theta)], [-1.*np.sin(theta), np.cos(theta)]])\\n    for Ap, Bp in zip(A, B) :\\n        AB.append(AB_mean + np.matmul(rotation, np.array([Ap, Bp])))\\n    AB = np.array(AB)\\n    return(AB)\\n        '"
      ]
     },
     "execution_count": 2,
     "metadata": {},
     "output_type": "execute_result"
    }
   ],
   "source": [
    "'''def generate_dataset (n_data) :\n",
    "    AB_mean = np.array([20, 50]).transpose()\n",
    "    A = np.random.normal(0, 5, n_data)\n",
    "    B = np.random.normal(0, 10, n_data)\n",
    "    AB = []\n",
    "    theta = np.pi/6\n",
    "    rotation = np.array([[np.cos(theta), np.sin(theta)], [-1.*np.sin(theta), np.cos(theta)]])\n",
    "    for Ap, Bp in zip(A, B) :\n",
    "        AB.append(AB_mean + np.matmul(rotation, np.array([Ap, Bp])))\n",
    "    AB = np.array(AB)\n",
    "    return(AB)\n",
    "        '''"
   ]
  },
  {
   "cell_type": "code",
   "execution_count": 3,
   "metadata": {},
   "outputs": [
    {
     "data": {
      "text/plain": [
       "'dataset = generate_dataset (10000)\\nprint(dataset.shape)'"
      ]
     },
     "execution_count": 3,
     "metadata": {},
     "output_type": "execute_result"
    }
   ],
   "source": [
    "'''dataset = generate_dataset (10000)\n",
    "print(dataset.shape)'''"
   ]
  },
  {
   "cell_type": "code",
   "execution_count": 4,
   "metadata": {},
   "outputs": [
    {
     "data": {
      "text/plain": [
       "'plt.hist2d(dataset[:,0], dataset[:,1])\\nplt.contour\\nplt.show()'"
      ]
     },
     "execution_count": 4,
     "metadata": {},
     "output_type": "execute_result"
    }
   ],
   "source": [
    "'''plt.hist2d(dataset[:,0], dataset[:,1])\n",
    "plt.contour\n",
    "plt.show()'''"
   ]
  },
  {
   "cell_type": "code",
   "execution_count": 5,
   "metadata": {},
   "outputs": [
    {
     "data": {
      "text/plain": [
       "'model = create_density_estimator( num_observables = 2    ,\\n                                  sigmoid         = True ,\\n                                  layers          = (20, 20))\\n\\ndataset_Y = np.ones(shape=(len(dataset),))\\n\\nmodel.fit(dataset,\\n          dataset_Y,\\n          validation_split=0.3,\\n          epochs=100000,\\n          callbacks=[EarlyStopping(patience=20, monitor=\"val_loss\")])'"
      ]
     },
     "execution_count": 5,
     "metadata": {},
     "output_type": "execute_result"
    }
   ],
   "source": [
    "'''model = create_density_estimator( num_observables = 2    ,\n",
    "                                  sigmoid         = True ,\n",
    "                                  layers          = (20, 20))\n",
    "\n",
    "dataset_Y = np.ones(shape=(len(dataset),))\n",
    "\n",
    "model.fit(dataset,\n",
    "          dataset_Y,\n",
    "          validation_split=0.3,\n",
    "          epochs=100000,\n",
    "          callbacks=[EarlyStopping(patience=20, monitor=\"val_loss\")])'''"
   ]
  },
  {
   "cell_type": "code",
   "execution_count": 6,
   "metadata": {},
   "outputs": [
    {
     "data": {
      "text/plain": [
       "'X = np.linspace(np.min(dataset[:,0]), np.max(dataset[:,0]), 5)\\nY = np.linspace(np.min(dataset[:,1]), np.max(dataset[:,1]), 5)\\nX, Y = np.meshgrid(X, Y)\\nZ = np.zeros(shape = X.shape)\\nfor i in range(5) :\\n    for j in range(5) :\\n        x = X[i, j]\\n        y = Y[i, j]\\n        Z[i, j] = model.predict(np.array([[x, y]]))[0]\\nprint(Z)'"
      ]
     },
     "execution_count": 6,
     "metadata": {},
     "output_type": "execute_result"
    }
   ],
   "source": [
    "'''X = np.linspace(np.min(dataset[:,0]), np.max(dataset[:,0]), 5)\n",
    "Y = np.linspace(np.min(dataset[:,1]), np.max(dataset[:,1]), 5)\n",
    "X, Y = np.meshgrid(X, Y)\n",
    "Z = np.zeros(shape = X.shape)\n",
    "for i in range(5) :\n",
    "    for j in range(5) :\n",
    "        x = X[i, j]\n",
    "        y = Y[i, j]\n",
    "        Z[i, j] = model.predict(np.array([[x, y]]))[0]\n",
    "print(Z)'''"
   ]
  },
  {
   "cell_type": "code",
   "execution_count": null,
   "metadata": {},
   "outputs": [],
   "source": []
  },
  {
   "cell_type": "code",
   "execution_count": null,
   "metadata": {},
   "outputs": [],
   "source": []
  },
  {
   "cell_type": "code",
   "execution_count": null,
   "metadata": {},
   "outputs": [],
   "source": []
  }
 ],
 "metadata": {
  "kernelspec": {
   "display_name": "Python 3",
   "language": "python",
   "name": "python3"
  },
  "language_info": {
   "codemirror_mode": {
    "name": "ipython",
    "version": 3
   },
   "file_extension": ".py",
   "mimetype": "text/x-python",
   "name": "python",
   "nbconvert_exporter": "python",
   "pygments_lexer": "ipython3",
   "version": "3.7.3"
  }
 },
 "nbformat": 4,
 "nbformat_minor": 2
}
