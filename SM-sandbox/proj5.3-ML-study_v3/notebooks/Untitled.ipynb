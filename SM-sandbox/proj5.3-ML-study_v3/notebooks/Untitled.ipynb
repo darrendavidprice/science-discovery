{
 "cells": [
  {
   "cell_type": "code",
   "execution_count": 1,
   "metadata": {},
   "outputs": [],
   "source": [
    "import numpy as np\n",
    "import scipy.stats as stats"
   ]
  },
  {
   "cell_type": "code",
   "execution_count": 3,
   "metadata": {},
   "outputs": [],
   "source": [
    "class ParamMeta :\n",
    "    def __init__ (self) :\n",
    "        self.clear()\n",
    "    def clear (self) :\n",
    "        self.name       = \"\"\n",
    "        self.value      = 0.\n",
    "        self.upper_lim  = None\n",
    "        self.lower_lim  = None"
   ]
  },
  {
   "cell_type": "code",
   "execution_count": 4,
   "metadata": {},
   "outputs": [],
   "source": [
    "class Simulator :\n",
    "    def __init__ (self) :\n",
    "        self.clear()\n",
    "    def clear (self) :\n",
    "        self.params   = []\n",
    "        self.function = None\n",
    "    def generate (self, num=1, *argv, **kwargs) :\n",
    "        if type(self.function) is type(None) :\n",
    "            raise RuntimeError(\"Simulator.generate(...) requires Simulator.function to have been configured\")\n",
    "        return self.function(num=1, *argv, **kwargs)"
   ]
  },
  {
   "cell_type": "code",
   "execution_count": null,
   "metadata": {},
   "outputs": [],
   "source": [
    "class ParameterisedSimulator :\n",
    "    def __init__ (self, name=name) :\n",
    "        self.clear()\n",
    "        self.name = name\n",
    "    def clear (self, *) :\n",
    "        self.params   = []\n",
    "        self.function = None"
   ]
  },
  {
   "cell_type": "code",
   "execution_count": null,
   "metadata": {},
   "outputs": [],
   "source": []
  }
 ],
 "metadata": {
  "kernelspec": {
   "display_name": "Python 3",
   "language": "python",
   "name": "python3"
  },
  "language_info": {
   "codemirror_mode": {
    "name": "ipython",
    "version": 3
   },
   "file_extension": ".py",
   "mimetype": "text/x-python",
   "name": "python",
   "nbconvert_exporter": "python",
   "pygments_lexer": "ipython3",
   "version": "3.7.3"
  }
 },
 "nbformat": 4,
 "nbformat_minor": 2
}
