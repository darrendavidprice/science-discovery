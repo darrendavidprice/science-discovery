{
 "cells": [
  {
   "cell_type": "code",
   "execution_count": 1,
   "metadata": {},
   "outputs": [],
   "source": [
    "import pickle, time\n",
    "\n",
    "import numpy as np\n",
    "import tensorflow as tf\n",
    "\n",
    "from   keras.activations import softplus\n",
    "from   keras.layers      import BatchNormalization, Dense, Dropout, Input, LeakyReLU, Concatenate, Lambda, Reshape, Softmax\n",
    "from   keras.models      import Model\n",
    "from   keras.optimizers  import Adam, SGD, Adadelta\n",
    "from   keras.callbacks   import EarlyStopping\n",
    "import keras.backend     as     K"
   ]
  },
  {
   "cell_type": "code",
   "execution_count": 9,
   "metadata": {},
   "outputs": [],
   "source": [
    "\n",
    "c1_min, c1_max = -5., 25.\n",
    "c2_min, c2_max = 0. , 600.\n",
    "y_min , y_max  = 0.5, 1.5\n",
    "\n",
    "c1_range = c1_max - c1_min\n",
    "c2_range = c2_max - c2_min\n",
    "y_range  = y_max  - y_min\n",
    "\n",
    "x     = [4, 257]\n",
    "exp_y = [y_min + (x[0]-c1_min)*(y_range/c1_range),\n",
    "         y_min + (x[1]-c2_min)*(y_range/c2_range)]\n"
   ]
  },
  {
   "cell_type": "code",
   "execution_count": 12,
   "metadata": {},
   "outputs": [
    {
     "name": "stdout",
     "output_type": "stream",
     "text": [
      "[0.8        0.92833334]\n",
      "[0.8, 0.9283333333333333]\n"
     ]
    }
   ],
   "source": [
    "\n",
    "l1 = Input(2)\n",
    "\n",
    "def transform (x) :    # x shape is (None, 2)\n",
    "    out_min   = tf.constant([y_min, y_min])\n",
    "    out_scale = tf.constant([y_range/c1_range, y_range/c2_range])\n",
    "    in_min    = tf.constant([c1_min, c2_min])\n",
    "    return out_min + ((x - in_min)*out_scale)\n",
    "\n",
    "model = Lambda(transform)(l1)\n",
    "model = Model(l1, model, name=\"model\")\n",
    "\n",
    "y = model.predict([x])\n",
    "\n",
    "print(y[0])\n",
    "print(exp_y)"
   ]
  },
  {
   "cell_type": "code",
   "execution_count": null,
   "metadata": {},
   "outputs": [],
   "source": []
  }
 ],
 "metadata": {
  "kernelspec": {
   "display_name": "Python 3",
   "language": "python",
   "name": "python3"
  },
  "language_info": {
   "codemirror_mode": {
    "name": "ipython",
    "version": 3
   },
   "file_extension": ".py",
   "mimetype": "text/x-python",
   "name": "python",
   "nbconvert_exporter": "python",
   "pygments_lexer": "ipython3",
   "version": "3.7.3"
  }
 },
 "nbformat": 4,
 "nbformat_minor": 2
}
