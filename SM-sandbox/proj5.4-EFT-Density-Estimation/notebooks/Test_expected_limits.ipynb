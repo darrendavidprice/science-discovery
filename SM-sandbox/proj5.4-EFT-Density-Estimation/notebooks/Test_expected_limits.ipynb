{
 "cells": [
  {
   "cell_type": "code",
   "execution_count": 1,
   "metadata": {},
   "outputs": [],
   "source": [
    "import numpy as np\n",
    "import scipy.stats as stats\n",
    "from iminuit import Minuit\n",
    "from matplotlib import pyplot as plt"
   ]
  },
  {
   "cell_type": "code",
   "execution_count": 9,
   "metadata": {},
   "outputs": [],
   "source": [
    "f1_true     = 0.3\n",
    "mu1_true    = 7.\n",
    "sigma1_true = 4.\n",
    "\n",
    "f2_true     = 0.7\n",
    "mu2_true    = -6\n",
    "sigma2_true = 4.\n",
    "\n",
    "N          = 100000\n",
    "N1_approx  = 100\n",
    "N2_approx  = 100"
   ]
  },
  {
   "cell_type": "code",
   "execution_count": 10,
   "metadata": {},
   "outputs": [
    {
     "data": {
      "image/png": "[encoded data removed]",
      "text/plain": [
       "<Figure size 432x288 with 1 Axes>"
      ]
     },
     "metadata": {
      "needs_background": "light"
     },
     "output_type": "display_data"
    }
   ],
   "source": [
    "dataset1 = mu1_true + sigma1_true*np.random.normal(size=(int(N*f1_true),))\n",
    "dataset2 = mu2_true + sigma2_true*np.random.normal(size=(int(N*f2_true),))\n",
    "dataset = np.concatenate([dataset1, dataset2])\n",
    "\n",
    "bins = np.linspace(-26, 24, 101)\n",
    "plt.hist(dataset, bins=bins, density=True, color=\"grey\", alpha=0.5)\n",
    "plt.plot(bins, f1_true*stats.norm.pdf(bins, mu1_true, sigma1_true) + f2_true*stats.norm.pdf(bins, mu2_true, sigma2_true), \"--\", c=\"r\", linewidth=2)\n",
    "plt.show()"
   ]
  },
  {
   "cell_type": "code",
   "execution_count": 11,
   "metadata": {},
   "outputs": [],
   "source": [
    "def TNLL (p) :\n",
    "    mu1, sigma1 = p[0], np.fabs(p[1])/100\n",
    "    L   = f1_true*stats.norm.pdf(dataset, mu1, sigma1) + f2_true*stats.norm.pdf(dataset, mu2_true, sigma2_true)\n",
    "    return -2 * np.sum(np.log(L))"
   ]
  },
  {
   "cell_type": "code",
   "execution_count": 12,
   "metadata": {},
   "outputs": [
    {
     "data": {
      "text/html": [
       "<table>\n",
       "<tr style=\"background-color:#F4F4F4;\">\n",
       "<td/>\n",
       "<th title=\"Variable name\">\n",
       "Name\n",
       "</th>\n",
       "<th title=\"Value of parameter\">\n",
       "Value\n",
       "</th>\n",
       "<th title=\"Hesse error\">\n",
       "Hesse Error\n",
       "</th>\n",
       "<th title=\"Minos lower error\">\n",
       "Minos Error-\n",
       "</th>\n",
       "<th title=\"Minos upper error\">\n",
       "Minos Error+\n",
       "</th>\n",
       "<th title=\"Lower limit of the parameter\">\n",
       "Limit-\n",
       "</th>\n",
       "<th title=\"Upper limit of the parameter\">\n",
       "Limit+\n",
       "</th>\n",
       "<th title=\"Is the parameter fixed in the fit\">\n",
       "Fixed\n",
       "</th>\n",
       "</tr>\n",
       "<tr style=\"background-color:#FFFFFF;\">\n",
       "<td>\n",
       "0\n",
       "</td>\n",
       "<td>\n",
       "x0\n",
       "</td>\n",
       "<td>\n",
       " 6.961\n",
       "</td>\n",
       "<td>\n",
       " 0.030\n",
       "</td>\n",
       "<td>\n",
       "-0.030\n",
       "</td>\n",
       "<td>\n",
       " 0.030\n",
       "</td>\n",
       "<td>\n",
       "\n",
       "</td>\n",
       "<td>\n",
       "\n",
       "</td>\n",
       "<td>\n",
       "\n",
       "</td>\n",
       "</tr>\n",
       "<tr style=\"background-color:#F4F4F4;\">\n",
       "<td>\n",
       "1\n",
       "</td>\n",
       "<td>\n",
       "x1\n",
       "</td>\n",
       "<td>\n",
       " 399.3\n",
       "</td>\n",
       "<td>\n",
       " 2.3\n",
       "</td>\n",
       "<td>\n",
       "-2.2\n",
       "</td>\n",
       "<td>\n",
       " 2.3\n",
       "</td>\n",
       "<td>\n",
       "\n",
       "</td>\n",
       "<td>\n",
       "\n",
       "</td>\n",
       "<td>\n",
       "\n",
       "</td>\n",
       "</tr>\n",
       "</table>\n"
      ],
      "text/plain": [
       "------------------------------------------------------------------------------------------\n",
       "|   | Name |   Value   | Hesse Err | Minos Err- | Minos Err+ | Limit-  | Limit+  | Fixed |\n",
       "------------------------------------------------------------------------------------------\n",
       "| 0 | x0   |   6.961   |   0.030   |   -0.030   |    0.030   |         |         |       |\n",
       "| 1 | x1   |   399.3   |    2.3    |    -2.2    |     2.3    |         |         |       |\n",
       "------------------------------------------------------------------------------------------"
      ]
     },
     "execution_count": 12,
     "metadata": {},
     "output_type": "execute_result"
    }
   ],
   "source": [
    "m = Minuit.from_array_func(TNLL, [0, 500], [5, 500], errordef=1)\n",
    "m.migrad()\n",
    "m.minos()\n",
    "m.get_param_states()"
   ]
  },
  {
   "cell_type": "code",
   "execution_count": 14,
   "metadata": {},
   "outputs": [
    {
     "data": {
      "image/png": "[encoded data removed]",
      "text/plain": [
       "<Figure size 432x288 with 1 Axes>"
      ]
     },
     "metadata": {
      "needs_background": "light"
     },
     "output_type": "display_data"
    },
    {
     "data": {
      "text/html": [
       "<table>\n",
       "<tr style=\"background-color:#F4F4F4;\">\n",
       "<td/>\n",
       "<th title=\"Variable name\">\n",
       "Name\n",
       "</th>\n",
       "<th title=\"Value of parameter\">\n",
       "Value\n",
       "</th>\n",
       "<th title=\"Hesse error\">\n",
       "Hesse Error\n",
       "</th>\n",
       "<th title=\"Minos lower error\">\n",
       "Minos Error-\n",
       "</th>\n",
       "<th title=\"Minos upper error\">\n",
       "Minos Error+\n",
       "</th>\n",
       "<th title=\"Lower limit of the parameter\">\n",
       "Limit-\n",
       "</th>\n",
       "<th title=\"Upper limit of the parameter\">\n",
       "Limit+\n",
       "</th>\n",
       "<th title=\"Is the parameter fixed in the fit\">\n",
       "Fixed\n",
       "</th>\n",
       "</tr>\n",
       "<tr style=\"background-color:#FFFFFF;\">\n",
       "<td>\n",
       "0\n",
       "</td>\n",
       "<td>\n",
       "x0\n",
       "</td>\n",
       "<td>\n",
       " 6.37\n",
       "</td>\n",
       "<td>\n",
       " 0.03\n",
       "</td>\n",
       "<td>\n",
       "-0.03\n",
       "</td>\n",
       "<td>\n",
       " 0.03\n",
       "</td>\n",
       "<td>\n",
       "\n",
       "</td>\n",
       "<td>\n",
       "\n",
       "</td>\n",
       "<td>\n",
       "\n",
       "</td>\n",
       "</tr>\n",
       "<tr style=\"background-color:#F4F4F4;\">\n",
       "<td>\n",
       "1\n",
       "</td>\n",
       "<td>\n",
       "x1\n",
       "</td>\n",
       "<td>\n",
       " 436.3\n",
       "</td>\n",
       "<td>\n",
       " 2.5\n",
       "</td>\n",
       "<td>\n",
       "-2.5\n",
       "</td>\n",
       "<td>\n",
       " 2.5\n",
       "</td>\n",
       "<td>\n",
       "\n",
       "</td>\n",
       "<td>\n",
       "\n",
       "</td>\n",
       "<td>\n",
       "\n",
       "</td>\n",
       "</tr>\n",
       "</table>\n"
      ],
      "text/plain": [
       "------------------------------------------------------------------------------------------\n",
       "|   | Name |   Value   | Hesse Err | Minos Err- | Minos Err+ | Limit-  | Limit+  | Fixed |\n",
       "------------------------------------------------------------------------------------------\n",
       "| 0 | x0   |    6.37   |    0.03   |   -0.03    |    0.03    |         |         |       |\n",
       "| 1 | x1   |   436.3   |    2.5    |    -2.5    |     2.5    |         |         |       |\n",
       "------------------------------------------------------------------------------------------"
      ]
     },
     "execution_count": 14,
     "metadata": {},
     "output_type": "execute_result"
    }
   ],
   "source": [
    "dataset1 = mu1_true + sigma1_true*np.random.normal(size=(N1_approx,))\n",
    "dataset2 = mu2_true + sigma2_true*np.random.normal(size=(N2_approx,))\n",
    "dataset  = np.concatenate([dataset1, dataset2])\n",
    "\n",
    "weights1 = np.full(fill_value=N*f1_true/N1_approx, shape=dataset1.shape)\n",
    "weights2 = np.full(fill_value=N*f2_true/N2_approx, shape=dataset2.shape)\n",
    "weights  = np.concatenate([weights1, weights2])\n",
    "\n",
    "bins = np.linspace(-26, 24, 101)\n",
    "plt.hist(dataset, bins=bins, weights=weights, density=True, color=\"grey\", alpha=0.5)\n",
    "plt.plot(bins, f1_true*stats.norm.pdf(bins, mu1_true, sigma1_true) + f2_true*stats.norm.pdf(bins, mu2_true, sigma2_true), \"--\", c=\"r\", linewidth=2)\n",
    "plt.show()\n",
    "\n",
    "def dp_TNLL (p) :\n",
    "    mu1, sigma1 = p[0], np.fabs(p[1])/100\n",
    "    L   = f1_true*stats.norm.pdf(dataset, mu1, sigma1) + f2_true*stats.norm.pdf(dataset, mu2_true, sigma2_true)\n",
    "    return -2 * np.log(L) * weights\n",
    "\n",
    "def TNLL (p) :\n",
    "    return np.sum(dp_TNLL(p))\n",
    "\n",
    "m = Minuit.from_array_func(TNLL, [mu1_true, sigma1_true], [5, 500], errordef=1)\n",
    "m.migrad()\n",
    "m.minos()\n",
    "m.get_param_states()"
   ]
  },
  {
   "cell_type": "code",
   "execution_count": 37,
   "metadata": {},
   "outputs": [
    {
     "data": {
      "text/plain": [
       "28.669723189873306"
      ]
     },
     "execution_count": 37,
     "metadata": {},
     "output_type": "execute_result"
    }
   ],
   "source": [
    "TNLL_ = dp_TNLL([mu2_true, sigma2_true])\n",
    "L_    = np.exp(-0.5*TNLL_/1000.)\n",
    "\n",
    "np.sum(L_)"
   ]
  },
  {
   "cell_type": "code",
   "execution_count": 28,
   "metadata": {},
   "outputs": [
    {
     "data": {
      "text/plain": [
       "(array([ 319.,  436.,  486.,  545.,  669.,  733.,  852., 1039., 1396.,\n",
       "        3525.]),\n",
       " array([7.41146384e-05, 3.99609312e-02, 7.98477477e-02, 1.19734564e-01,\n",
       "        1.59621381e-01, 1.99508197e-01, 2.39395014e-01, 2.79281831e-01,\n",
       "        3.19168647e-01, 3.59055464e-01, 3.98942280e-01]),\n",
       " <a list of 10 Patch objects>)"
      ]
     },
     "execution_count": 28,
     "metadata": {},
     "output_type": "execute_result"
    },
    {
     "data": {
      "image/png": "[encoded data removed]",
      "text/plain": [
       "<Figure size 432x288 with 1 Axes>"
      ]
     },
     "metadata": {
      "needs_background": "light"
     },
     "output_type": "display_data"
    }
   ],
   "source": [
    "x = np.random.normal(size=(10000,))\n",
    "y = stats.norm.pdf(x)\n",
    "\n",
    "plt.hist(y)"
   ]
  },
  {
   "cell_type": "code",
   "execution_count": null,
   "metadata": {},
   "outputs": [],
   "source": []
  }
 ],
 "metadata": {
  "kernelspec": {
   "display_name": "Python 3",
   "language": "python",
   "name": "python3"
  },
  "language_info": {
   "codemirror_mode": {
    "name": "ipython",
    "version": 3
   },
   "file_extension": ".py",
   "mimetype": "text/x-python",
   "name": "python",
   "nbconvert_exporter": "python",
   "pygments_lexer": "ipython3",
   "version": "3.7.3"
  }
 },
 "nbformat": 4,
 "nbformat_minor": 2
}
