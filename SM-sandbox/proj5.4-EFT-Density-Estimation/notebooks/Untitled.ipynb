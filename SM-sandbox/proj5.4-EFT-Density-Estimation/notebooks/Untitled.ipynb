{
 "cells": [
  {
   "cell_type": "code",
   "execution_count": 1,
   "metadata": {},
   "outputs": [],
   "source": [
    "import matplotlib.pyplot as plt\n",
    "import numpy as np"
   ]
  },
  {
   "cell_type": "code",
   "execution_count": 19,
   "metadata": {},
   "outputs": [
    {
     "data": {
      "image/png": "[encoded data removed]",
      "text/plain": [
       "<Figure size 432x288 with 1 Axes>"
      ]
     },
     "metadata": {
      "needs_background": "light"
     },
     "output_type": "display_data"
    }
   ],
   "source": [
    "fig = plt.figure(figsize=(6, 4))\n",
    "ax  = fig.add_axes([0, 1, 1, 1])\n",
    "\n",
    "A   = 3\n",
    "B   = 87\n",
    "\n",
    "r         = B / A\n",
    "upper_pad = 0.5\n",
    "lower_pad = 0.1\n",
    "l         = np.exp((1+lower_pad)*np.log(A) - lower_pad*np.log(B))\n",
    "u         = np.exp((1+upper_pad)*np.log(B) - upper_pad*np.log(A))\n",
    "\n",
    "ax.axhline(A)\n",
    "ax.axhline(B)\n",
    "\n",
    "ax.set_yscale(\"log\")\n",
    "ax.set_ylim([l, u])\n",
    "\n",
    "plt.show()"
   ]
  },
  {
   "cell_type": "code",
   "execution_count": null,
   "metadata": {},
   "outputs": [],
   "source": []
  }
 ],
 "metadata": {
  "kernelspec": {
   "display_name": "Python 3",
   "language": "python",
   "name": "python3"
  },
  "language_info": {
   "codemirror_mode": {
    "name": "ipython",
    "version": 3
   },
   "file_extension": ".py",
   "mimetype": "text/x-python",
   "name": "python",
   "nbconvert_exporter": "python",
   "pygments_lexer": "ipython3",
   "version": "3.7.3"
  }
 },
 "nbformat": 4,
 "nbformat_minor": 2
}
