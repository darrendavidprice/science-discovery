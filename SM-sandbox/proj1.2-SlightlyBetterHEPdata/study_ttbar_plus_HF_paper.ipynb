{
 "cells": [
  {
   "cell_type": "markdown",
   "metadata": {},
   "source": [
    "# Ste's second notebook: analyse some other HEPdata files"
   ]
  },
  {
   "cell_type": "markdown",
   "metadata": {},
   "source": [
    "### Aim is to open some different yaml files to make sure that I understand all formats"
   ]
  },
  {
   "cell_type": "markdown",
   "metadata": {},
   "source": [
    "#### First step: import libraries"
   ]
  },
  {
   "cell_type": "code",
   "execution_count": 1,
   "metadata": {},
   "outputs": [],
   "source": [
    "import os, sys, yaml\n",
    "import general_utils.messaging as msg\n",
    "import general_utils.helpers as hlp\n",
    "import HEP_data_utils.helpers as HEPData_hlp\n",
    "from HEP_data_utils.data_structures import *"
   ]
  },
  {
   "cell_type": "markdown",
   "metadata": {},
   "source": [
    "#### Create a new \"Distribution_store\", and populate it with the contents of the yaml files"
   ]
  },
  {
   "cell_type": "code",
   "execution_count": 2,
   "metadata": {},
   "outputs": [
    {
     "name": "stdout",
     "output_type": "stream",
     "text": [
      "INFO\tHEP_data_utils.helpers.load_dataset\tInterpreting ../HEP_datasets/HEPData-ins1705857-v1-yaml/emu_ttXSubtracted_figure16b_pTbb.yaml as a yaml file... I will use it as my only input\n",
      "INFO\tHEP_data_utils.helpers.load_dataset\tInterpreting ../HEP_datasets/HEPData-ins1306615-v2-yaml/data14.yaml as a yaml file... I will use it as my only input\n",
      "INFO\tHEP_data_utils.helpers.load_dataset\tInterpreting ../HEP_datasets/HEPData-ins1312978-v1-yaml/Table2.yaml as a yaml file... I will use it as my only input\n",
      "INFO\tHEP_data_utils.helpers.load_dataset\tInterpreting ../HEP_datasets/HEPData-ins1609448-v2-yaml/Table2.yaml as a yaml file... I will use it as my only input\n"
     ]
    }
   ],
   "source": [
    "dataset = Distribution_store(\"Random plots\")\n",
    "HEPData_hlp.load_dataset ( dataset , \"../HEP_datasets/HEPData-ins1705857-v1-yaml/emu_ttXSubtracted_figure16b_pTbb.yaml\" )\n",
    "HEPData_hlp.load_dataset ( dataset , \"../HEP_datasets/HEPData-ins1306615-v2-yaml/data14.yaml\" )\n",
    "HEPData_hlp.load_dataset ( dataset , \"../HEP_datasets/HEPData-ins1312978-v1-yaml/Table2.yaml\" )\n",
    "HEPData_hlp.load_dataset ( dataset , \"../HEP_datasets/HEPData-ins1609448-v2-yaml/Table2.yaml\" )"
   ]
  },
  {
   "cell_type": "markdown",
   "metadata": {},
   "source": [
    "#### Now look at the automatically-generated keys for each distribution..."
   ]
  },
  {
   "cell_type": "code",
   "execution_count": 3,
   "metadata": {},
   "outputs": [
    {
     "name": "stdout",
     "output_type": "stream",
     "text": [
      "INFO\tDistribution_store.print_keys\tkeys for _distributions_1D are:\n",
      "|../HEP_datasets/HEPData-ins1705857-v1-yaml/emu_ttXSubtracted_figure16b_pTbb.yaml|1/SIG*D(SIG)/DPT|\n",
      "|../HEP_datasets/HEPData-ins1306615-v2-yaml/data14.yaml|D(SIG)/DPTTHRUST(2GAMMA)|\n",
      "|../HEP_datasets/HEPData-ins1312978-v1-yaml/Table2.yaml|SIGNAL STRENGTH|\n",
      "|../HEP_datasets/HEPData-ins1609448-v2-yaml/Table2.yaml|measured $R^\\text{miss}$|\n",
      "|../HEP_datasets/HEPData-ins1609448-v2-yaml/Table2.yaml|expected $R^\\text{miss}$|\n",
      "|../HEP_datasets/HEPData-ins1609448-v2-yaml/Table2.yaml|$\\text{d}\\sigma / \\text{d} p_\\text{T}^\\text{miss} $ (SM prediction for numerator)|\n",
      "|../HEP_datasets/HEPData-ins1609448-v2-yaml/Table2.yaml|$\\text{d}\\sigma / \\text{d} p_\\text{T}^\\text{miss} $ (SM prediction for denominator)|\n",
      "INFO\tDistribution_store.print_keys\tkeys for _distributions_2D are:\n"
     ]
    }
   ],
   "source": [
    "dataset.print_keys()"
   ]
  },
  {
   "cell_type": "markdown",
   "metadata": {},
   "source": [
    "#### Success - we found all of the tables stored within this directory. The automatic keys are designed to be unique and specify where the distribution was found. They have the format \"|table-doi|file|heading within file|\", or \"|path|heading within file|\" when loaded directly from a table (rather than with a submission.yaml file). Now to set the keys as usual."
   ]
  },
  {
   "cell_type": "code",
   "execution_count": 4,
   "metadata": {},
   "outputs": [],
   "source": [
    "dataset.rename(\"|../HEP_datasets/HEPData-ins1705857-v1-yaml/emu_ttXSubtracted_figure16b_pTbb.yaml|1/SIG*D(SIG)/DPT|\",\"normalised_diff_emu_ttX_bkg_sub_vs_pTbb\")\n",
    "dataset.rename(\"|../HEP_datasets/HEPData-ins1306615-v2-yaml/data14.yaml|D(SIG)/DPTTHRUST(2GAMMA)|\",\"diff_H->yy_vs_pTt_8TeV\")\n",
    "dataset.rename(\"|../HEP_datasets/HEPData-ins1312978-v1-yaml/Table2.yaml|SIGNAL STRENGTH|\",\"signal-strength_H->yy_8TeV\")\n",
    "dataset.rename(\"|../HEP_datasets/HEPData-ins1609448-v2-yaml/Table2.yaml|measured $R^\\\\text{miss}$|\",\"diff_Rmiss_vs_pT_miss (VBF_meas)\")\n",
    "dataset.rename(\"|../HEP_datasets/HEPData-ins1609448-v2-yaml/Table2.yaml|expected $R^\\\\text{miss}$|\",\"diff_Rmiss_vs_pT_miss (VBF_exp)\")\n",
    "dataset.rename(\"|../HEP_datasets/HEPData-ins1609448-v2-yaml/Table2.yaml|$\\text{d}\\sigma / \\text{d} p_\\text{T}^\\text{miss} $ (SM prediction for numerator)|\",\"diff_pT_miss (VBF_SM_num)\")\n",
    "dataset.rename(\"|../HEP_datasets/HEPData-ins1609448-v2-yaml/Table2.yaml|$\\text{d}\\sigma / \\text{d} p_\\text{T}^\\text{miss} $ (SM prediction for denominator)|\",\"diff_pT_miss (VBF_SM_den)\")"
   ]
  },
  {
   "cell_type": "code",
   "execution_count": 5,
   "metadata": {},
   "outputs": [
    {
     "name": "stdout",
     "output_type": "stream",
     "text": [
      "INFO\tDistribution_store.print_keys\tkeys for _distributions_1D are:\n",
      "normalised_diff_emu_ttX_bkg_sub_vs_pTbb\n",
      "diff_H->yy_vs_pTt_8TeV\n",
      "signal-strength_H->yy_8TeV\n",
      "diff_Rmiss_vs_pT_miss (VBF_meas)\n",
      "diff_Rmiss_vs_pT_miss (VBF_exp)\n",
      "diff_pT_miss (VBF_SM_num)\n",
      "diff_pT_miss (VBF_SM_den)\n",
      "INFO\tDistribution_store.print_keys\tkeys for _distributions_2D are:\n"
     ]
    }
   ],
   "source": [
    "dataset.print_keys()"
   ]
  },
  {
   "cell_type": "markdown",
   "metadata": {},
   "source": [
    "#### Now I can visualise the 1D distributions..."
   ]
  },
  {
   "cell_type": "code",
   "execution_count": 6,
   "metadata": {},
   "outputs": [
    {
     "name": "stdout",
     "output_type": "stream",
     "text": [
      "1D Distribution\n",
      "   - name: D(SIG)/DPTTHRUST(2GAMMA)\n",
      "   - description: D(SIG)/DPTTHRUST(2GAMMA)\n",
      "   - units: FB*GEV**-1\n",
      "   - values (7): [0.44   1.597  0.652  0.569  0.087  0.3504 0.0034]\n",
      "   - symmetric error [stat]: [0.646  0.461  0.335  0.263  0.132  0.0973 0.0174]\n",
      "   - symmetric error [sys,bkg_model_uncorr]: [0.014  0.015  0.015  0.013  0.018  0.0104 0.0021]\n",
      "   - symmetric error [sys,fit]: [0.031  0.094  0.038  0.035  0.007  0.0207 0.0004]\n",
      "   - symmetric error [sys,lumi]: [0.012  0.045  0.018  0.016  0.002  0.0098 0.0001]\n",
      "   - symmetric error [sys,PID]: [0.004  0.016  0.007  0.006  0.001  0.0035 0.    ]\n",
      "   - symmetric error [sys,iso]: [0.004  0.016  0.007  0.006  0.001  0.0035 0.    ]\n",
      "   - symmetric error [sys,trig]: [0.002  0.008  0.003  0.003  0.     0.0018 0.    ]\n",
      "   - symmetric error [sys,pileup]: [0. 0. 0. 0. 0. 0. 0.]\n",
      "   - asymmetric error [sys,gen_model]_up  : [0.015  0.052  0.022  0.018  0.003  0.0086 0.0001]\n",
      "   - asymmetric error [sys,gen_model]_down: [-0.004  -0.026  -0.005  -0.008  -0.001  -0.0038 -0.    ]\n",
      "   - bin labels: ['unlabeled', 'unlabeled', 'unlabeled', 'unlabeled', 'unlabeled', 'unlabeled', 'unlabeled']\n",
      "   - bin values: [  0.  10.  20.  30.  40.  60.  80. 150.]\n"
     ]
    },
    {
     "data": {
      "image/png": "[encoded data removed]",
      "text/plain": [
       "<Figure size 1080x360 with 1 Axes>"
      ]
     },
     "metadata": {
      "needs_background": "light"
     },
     "output_type": "display_data"
    }
   ],
   "source": [
    "dist = dataset._distributions_1D[\"diff_H->yy_vs_pTt_8TeV\"]\n",
    "print(dist)\n",
    "dataset.plot_1D_distribution(\"diff_H->yy_vs_pTt_8TeV\",ylabel=\"$d\\sigma  /  dpT$\",xlabel=\"$p_{Tt}$  [GeV]\",label=\"Measured\",xlim=[0,150],ylim=[6e-4,8],logy=True)"
   ]
  },
  {
   "cell_type": "markdown",
   "metadata": {},
   "source": [
    "#### Compared with the original image (embedded from Inspire HEP). Note that we could have added the MC prediction onto this plot if it was loaded (either through this yaml file, a ROOT file, or otherwise)"
   ]
  },
  {
   "cell_type": "code",
   "execution_count": 7,
   "metadata": {},
   "outputs": [
    {
     "data": {
      "text/html": [
       "<img src=\"http://inspirehep.net/record/1306615/files/Diff_xsec_pTt_yy.png\" style=\"height:250px\">\n"
      ],
      "text/plain": [
       "<IPython.core.display.HTML object>"
      ]
     },
     "metadata": {},
     "output_type": "display_data"
    }
   ],
   "source": [
    "%%html\n",
    "<img src=\"http://inspirehep.net/record/1306615/files/Diff_xsec_pTt_yy.png\" style=\"height:250px\">"
   ]
  },
  {
   "cell_type": "markdown",
   "metadata": {},
   "source": [
    "#### And for the others..."
   ]
  },
  {
   "cell_type": "code",
   "execution_count": 8,
   "metadata": {},
   "outputs": [
    {
     "name": "stdout",
     "output_type": "stream",
     "text": [
      "1D Distribution\n",
      "   - name: SIGNAL STRENGTH\n",
      "   - description: SIGNAL STRENGTH\n",
      "   - units: unknown\n",
      "   - values (5): [1.167 1.38  0.642 0.928 1.271]\n",
      "   - asymmetric error [err0]_up  : [0.282 2.15  0.93  0.561 0.343]\n",
      "   - asymmetric error [err0]_down: [-0.257 -1.46  -0.642 -0.468 -0.308]\n",
      "   - bin labels: ['COMBINED', 'TTH', 'VH', 'VBF', 'GGF']\n",
      "   - bin values: [0. 0. 0. 0. 0. 0.]\n"
     ]
    },
    {
     "data": {
      "image/png": "[encoded data removed]",
      "text/plain": [
       "<Figure size 1080x360 with 1 Axes>"
      ]
     },
     "metadata": {
      "needs_background": "light"
     },
     "output_type": "display_data"
    }
   ],
   "source": [
    "dist = dataset._distributions_1D[\"signal-strength_H->yy_8TeV\"]\n",
    "print(dist)\n",
    "dataset.plot_1D_distribution(\"signal-strength_H->yy_8TeV\",ylabel=\"Signal strength\",xlabel=\"Category\",label=\"Measured\")"
   ]
  },
  {
   "cell_type": "code",
   "execution_count": 9,
   "metadata": {},
   "outputs": [
    {
     "data": {
      "text/html": [
       "<img src=\"http://inspirehep.net/record/1312978/files/fig_18.png\" style=\"height:300px\">\n"
      ],
      "text/plain": [
       "<IPython.core.display.HTML object>"
      ]
     },
     "metadata": {},
     "output_type": "display_data"
    }
   ],
   "source": [
    "%%html\n",
    "<img src=\"http://inspirehep.net/record/1312978/files/fig_18.png\" style=\"height:300px\">"
   ]
  },
  {
   "cell_type": "code",
   "execution_count": 10,
   "metadata": {},
   "outputs": [
    {
     "name": "stdout",
     "output_type": "stream",
     "text": [
      "1D Distribution\n",
      "   - name: 1/SIG*D(SIG)/DPT\n",
      "   - description: 1/SIG*D(SIG)/DPT\n",
      "   - units: GEV**-1\n",
      "   - values (5): [1.77009e-03 7.39546e-03 6.81383e-03 2.35264e-03 9.04600e-05]\n",
      "   - symmetric error [stat]: [1.7078e-04 3.9674e-04 2.9855e-04 1.1903e-04 8.7700e-06]\n",
      "   - symmetric error [sys]: [5.8927e-04 7.2600e-04 6.5831e-04 1.8769e-04 1.9100e-05]\n",
      "   - bin labels: ['unlabeled', 'unlabeled', 'unlabeled', 'unlabeled', 'unlabeled']\n",
      "   - bin values: [  10.   65.  100.  150.  250. 1000.]\n"
     ]
    },
    {
     "data": {
      "image/png": "[encoded data removed]",
      "text/plain": [
       "<Figure size 1080x360 with 1 Axes>"
      ]
     },
     "metadata": {
      "needs_background": "light"
     },
     "output_type": "display_data"
    }
   ],
   "source": [
    "dist = dataset._distributions_1D[\"normalised_diff_emu_ttX_bkg_sub_vs_pTbb\"]\n",
    "print(dist)\n",
    "dataset.plot_1D_distribution(\"normalised_diff_emu_ttX_bkg_sub_vs_pTbb\",ylabel=\"Normalised cross section\",xlabel=\"$p_{T}^{\\Delta\\\\rm min}(bb)$  /  GeV\",label=\"Measured (e$\\mu$ channel)\",xlim=[10,1000],ylim=[5e-5,2e-2],logy=True,logx=True)"
   ]
  },
  {
   "cell_type": "code",
   "execution_count": 11,
   "metadata": {},
   "outputs": [
    {
     "data": {
      "text/html": [
       "<img src=\"http://inspirehep.net/record/1705857/files/unfolded_3b_mindRPtbb.png\" style=\"height:500px\">\n"
      ],
      "text/plain": [
       "<IPython.core.display.HTML object>"
      ]
     },
     "metadata": {},
     "output_type": "display_data"
    }
   ],
   "source": [
    "%%html\n",
    "<img src=\"http://inspirehep.net/record/1705857/files/unfolded_3b_mindRPtbb.png\" style=\"height:500px\">"
   ]
  }
 ],
 "metadata": {
  "kernelspec": {
   "display_name": "Python 3",
   "language": "python",
   "name": "python3"
  },
  "language_info": {
   "codemirror_mode": {
    "name": "ipython",
    "version": 3
   },
   "file_extension": ".py",
   "mimetype": "text/x-python",
   "name": "python",
   "nbconvert_exporter": "python",
   "pygments_lexer": "ipython3",
   "version": "3.7.3"
  }
 },
 "nbformat": 4,
 "nbformat_minor": 2
}
