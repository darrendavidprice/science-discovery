{
 "cells": [
  {
   "cell_type": "markdown",
   "metadata": {},
   "source": [
    "## Calorimeter GAN test\n",
    "### Author: stephen.menary@manchester.ac.uk"
   ]
  },
  {
   "cell_type": "markdown",
   "metadata": {},
   "source": [
    "---\n",
    "\n",
    "### Step 1)  Grab a dataset of rings labelled by momentum\n",
    "\n",
    "---"
   ]
  },
  {
   "cell_type": "code",
   "execution_count": 1,
   "metadata": {
    "scrolled": false
   },
   "outputs": [
    {
     "name": "stdout",
     "output_type": "stream",
     "text": [
      "Generating rings... 100%\n",
      "2000 rings saved to file\n",
      "   DATASET with size 1000\n"
     ]
    }
   ],
   "source": [
    "#  Create simulated dataset of rings and showers\n",
    "#  -  datapoints are labelled by momentum\n",
    "\n",
    "import Tools.shower_test_tools as tools\n",
    "\n",
    "import numpy as np\n",
    "\n",
    "num_pixels      = 21\n",
    "num_simulations = 2000\n",
    "\n",
    "TRAIN_X, TRAIN_Y, VAL_X, VAL_Y, TEST_X, TEST_Y = tools.get_rings_with_coordinates(\n",
    "    do_x=False, \n",
    "    do_y=False, \n",
    "    do_p=True, \n",
    "    num_pixels=num_pixels, \n",
    "    num_simulations=num_simulations,\n",
    "    tag=\"shower_tests_5\")\n",
    "\n",
    "print(f\"   DATASET with size {len(TRAIN_X)}\")"
   ]
  },
  {
   "cell_type": "markdown",
   "metadata": {},
   "source": [
    "---\n",
    "\n",
    "### Step 2)  Plot some examples of our images\n",
    "\n",
    "---"
   ]
  },
  {
   "cell_type": "code",
   "execution_count": 2,
   "metadata": {},
   "outputs": [
    {
     "data": {
      "image/png": "[encoded data removed]",
      "text/plain": [
       "<Figure size 648x648 with 32 Axes>"
      ]
     },
     "metadata": {
      "needs_background": "light"
     },
     "output_type": "display_data"
    }
   ],
   "source": [
    "#  Plot some examples of datapoints\n",
    "#\n",
    "\n",
    "import matplotlib.pyplot as plt\n",
    "\n",
    "fig = plt.figure(figsize=(9,9))\n",
    "for idx, (im, label) in enumerate(zip(TRAIN_X[:16], TRAIN_Y[:16])) :\n",
    "    plt.subplot(4, 4, 1+idx)\n",
    "    plt.imshow(im[:,:,0], vmin=0., vmax=1.)\n",
    "    plt.colorbar()\n",
    "    plt.axis('off')\n",
    "plt.show()\n"
   ]
  },
  {
   "cell_type": "markdown",
   "metadata": {},
   "source": [
    "---\n",
    "\n",
    "### Step 3)  Create CNN discriminator, MLP generator and GAN\n",
    "\n",
    "---"
   ]
  },
  {
   "cell_type": "code",
   "execution_count": 7,
   "metadata": {
    "scrolled": false
   },
   "outputs": [
    {
     "name": "stdout",
     "output_type": "stream",
     "text": [
      "Model: \"Discriminator\"\n",
      "_________________________________________________________________\n",
      "Layer (type)                 Output Shape              Param #   \n",
      "=================================================================\n",
      "conv2d_7 (Conv2D)            (None, 19, 19, 12)        120       \n",
      "_________________________________________________________________\n",
      "conv2d_8 (Conv2D)            (None, 17, 17, 10)        1090      \n",
      "_________________________________________________________________\n",
      "conv2d_9 (Conv2D)            (None, 16, 16, 8)         328       \n",
      "_________________________________________________________________\n",
      "flatten_3 (Flatten)          (None, 2048)              0         \n",
      "_________________________________________________________________\n",
      "dense_10 (Dense)             (None, 1024)              2098176   \n",
      "_________________________________________________________________\n",
      "dense_11 (Dense)             (None, 1)                 1025      \n",
      "=================================================================\n",
      "Total params: 2,100,739\n",
      "Trainable params: 2,100,739\n",
      "Non-trainable params: 0\n",
      "_________________________________________________________________\n"
     ]
    },
    {
     "ename": "ValueError",
     "evalue": "This model has not yet been built. Build the model first by calling build() or calling fit() with some data. Or specify input_shape or batch_input_shape in the first layer for automatic build. ",
     "output_type": "error",
     "traceback": [
      "\u001b[0;31m---------------------------------------------------------------------------\u001b[0m",
      "\u001b[0;31mValueError\u001b[0m                                Traceback (most recent call last)",
      "\u001b[0;32m<ipython-input-7-dfcee7e9831c>\u001b[0m in \u001b[0;36m<module>\u001b[0;34m\u001b[0m\n\u001b[1;32m     44\u001b[0m \u001b[0;34m\u001b[0m\u001b[0m\n\u001b[1;32m     45\u001b[0m \u001b[0mdiscriminator\u001b[0m\u001b[0;34m.\u001b[0m\u001b[0msummary\u001b[0m\u001b[0;34m(\u001b[0m\u001b[0;34m)\u001b[0m\u001b[0;34m\u001b[0m\u001b[0;34m\u001b[0m\u001b[0m\n\u001b[0;32m---> 46\u001b[0;31m \u001b[0mgenerator\u001b[0m    \u001b[0;34m.\u001b[0m\u001b[0msummary\u001b[0m\u001b[0;34m(\u001b[0m\u001b[0;34m)\u001b[0m\u001b[0;34m\u001b[0m\u001b[0;34m\u001b[0m\u001b[0m\n\u001b[0m",
      "\u001b[0;32m/usr/local/lib/python3.7/site-packages/keras/engine/network.py\u001b[0m in \u001b[0;36msummary\u001b[0;34m(self, line_length, positions, print_fn)\u001b[0m\n\u001b[1;32m   1318\u001b[0m         \u001b[0;32mif\u001b[0m \u001b[0;32mnot\u001b[0m \u001b[0mself\u001b[0m\u001b[0;34m.\u001b[0m\u001b[0mbuilt\u001b[0m\u001b[0;34m:\u001b[0m\u001b[0;34m\u001b[0m\u001b[0;34m\u001b[0m\u001b[0m\n\u001b[1;32m   1319\u001b[0m             raise ValueError(\n\u001b[0;32m-> 1320\u001b[0;31m                 \u001b[0;34m'This model has not yet been built. '\u001b[0m\u001b[0;34m\u001b[0m\u001b[0;34m\u001b[0m\u001b[0m\n\u001b[0m\u001b[1;32m   1321\u001b[0m                 \u001b[0;34m'Build the model first by calling build() '\u001b[0m\u001b[0;34m\u001b[0m\u001b[0;34m\u001b[0m\u001b[0m\n\u001b[1;32m   1322\u001b[0m                 \u001b[0;34m'or calling fit() with some data. '\u001b[0m\u001b[0;34m\u001b[0m\u001b[0;34m\u001b[0m\u001b[0m\n",
      "\u001b[0;31mValueError\u001b[0m: This model has not yet been built. Build the model first by calling build() or calling fit() with some data. Or specify input_shape or batch_input_shape in the first layer for automatic build. "
     ]
    }
   ],
   "source": [
    "#  Create networks\n",
    "#\n",
    "\n",
    "from keras.layers import Dense, Flatten, Conv2D, Input, Reshape, LeakyReLU, Dropout\n",
    "from keras.models import Model, Sequential\n",
    "from tensorflow import reshape\n",
    "\n",
    "\n",
    "n_input_size = 81\n",
    "\n",
    "discriminator = None\n",
    "generator     = None\n",
    "\n",
    "\n",
    "class Discriminator (Sequential) :\n",
    "    def __init__ (self) :\n",
    "        super(Discriminator, self).__init__(name=\"Discriminator\")\n",
    "        self.add(Conv2D(12, kernel_size=(3,3), activation=\"relu\", input_shape=(num_pixels, num_pixels, 1)))\n",
    "        self.add(Conv2D(10, kernel_size=(3,3), activation=\"relu\"))\n",
    "        self.add(Conv2D(8, kernel_size=(2,2), activation=\"relu\"))\n",
    "        self.add(Flatten())\n",
    "        self.add(Dense(1024, activation=\"relu\"))\n",
    "        self.add(Dense(1   , activation=\"sigmoid\"))\n",
    "        self.compile(optimizer=\"adam\", loss=\"binary_crossentropy\", metrics=[\"accuracy\"])\n",
    "\n",
    "def generator_loss (gen_out, y_pred):\n",
    "    global discriminator\n",
    "    return discriminator.evaluate(gen_out, y_pred)[0]\n",
    "\n",
    "discriminator = Discriminator()\n",
    "\n",
    "def create_generator_network () :\n",
    "    model = Sequential(name=\"Generator\")\n",
    "    model.add(Dense(1024, activation=\"relu\"))\n",
    "    model.add(Dense(1024, activation=\"relu\"))\n",
    "    model.add(Dense(1024, activation=\"relu\"))\n",
    "    model.add(Dense(1024, activation=\"relu\"))\n",
    "    model.add(Dense(num_pixels*num_pixels, activation=\"sigmoid\"))\n",
    "    model.add(Reshape(target_shape=(num_pixels, num_pixels, 1)))\n",
    "    model.compile(optimizer=\"adam\", loss=generator_loss, metrics=[\"accuracy\"])\n",
    "    return model\n",
    "\n",
    "generator = create_generator_network()\n",
    "\n",
    "discriminator.summary()\n",
    "generator    .summary()"
   ]
  },
  {
   "cell_type": "markdown",
   "metadata": {},
   "source": [
    "---\n",
    "\n",
    "### Step 4)  Train the network\n",
    "\n",
    "---"
   ]
  },
  {
   "cell_type": "code",
   "execution_count": null,
   "metadata": {
    "scrolled": false
   },
   "outputs": [],
   "source": [
    "#  Fit the training data\n",
    "#  - using early stopping, and storing best solution\n",
    "#\n",
    "\n",
    "import sys\n",
    "\n",
    "from keras.callbacks import EarlyStopping\n",
    "import scipy.stats as stats\n",
    "\n",
    "\n",
    "def plot_epoch (e, noise, generated_image) :\n",
    "    fig = plt.figure(figsize=(10,5))\n",
    "    ax = fig.add_subplot(121)\n",
    "    plt.imshow(noise[0,:].reshape(int(np.sqrt(n_input_size)), int(np.sqrt(n_input_size))))\n",
    "    plt.title(f\"Input noise (epoch {e})\")\n",
    "    plt.colorbar()\n",
    "    ax = fig.add_subplot(122)\n",
    "    plt.imshow(generated_image[:,:,0], vmin=0., vmax=1.)\n",
    "    plt.title(f\"Generated image (epoch {e})\")\n",
    "    plt.colorbar()\n",
    "    plt.show()\n",
    "\n",
    "\n",
    "def training(gan, epochs=1, batch_size=128):\n",
    "    for e in range(epochs):\n",
    "        noise            = np.random.normal(0, 1, size=(batch_size, n_input_size))\n",
    "        generated_images = generator.predict(noise)\n",
    "        image_batch      = TRAIN_X[np.random.randint(low=0, high=TRAIN_X.shape[0], size=batch_size)]\n",
    "            \n",
    "        X      = np.concatenate([image_batch, generated_images])\n",
    "        y_real = np.array([1 for i in range(batch_size)])\n",
    "        y_fake = np.array([0 for i in range(batch_size)])\n",
    "        y_true = np.concatenate([y_real, y_fake])\n",
    "            \n",
    "        if e % 10 == 0 :\n",
    "            print(f\"Epoch {e}: Discriminator accuracy is {100.*discriminator.evaluate(X, y_true, verbose=0)[1]:.0f}%\")\n",
    "            print(f\"Epoch {e}: GAN accuracy is {100.*discriminator.evaluate(generated_images, y_real, verbose=0)[1]:.0f}%\")\n",
    "            plot_epoch(e, noise, generated_images[0])\n",
    "            \n",
    "        #Pre train discriminator on  fake and real data  before starting the gan.\n",
    "        discriminator.trainable=True\n",
    "        dis_loss, dis_acc = discriminator.train_on_batch(X, y_true)\n",
    "        \n",
    "        '''disc_idx = 0\n",
    "        while (disc_idx < 50) and (dis_acc < 0.6) :\n",
    "            if disc_idx % 10 == 0 :\n",
    "                sys.stdout.write(\"\\r\"+f\"Epoch {e}: improving Discriminator (attempt {disc_idx}) with accuracy of {100.*dis_acc:.0f}%\".ljust(80))\n",
    "                sys.stdout.flush()\n",
    "            dis_loss, dis_acc = discriminator.train_on_batch(X, y_true)\n",
    "            disc_idx = disc_idx + 1\n",
    "        if disc_idx > 49 and gen_acc < 1e-5 :\n",
    "            print(\"\\n-- Replacing discriminator --\")\n",
    "            replace_discriminator()'''\n",
    "            \n",
    "        # During the training of gan, the weights of discriminator should be fixed. \n",
    "        discriminator.trainable=False\n",
    "        gen_loss, gen_acc = gan.train_on_batch(noise, y_real)\n",
    "        \n",
    "        gan_idx = 0\n",
    "        while (gan_idx < 50) and (gen_acc < 0.6) :\n",
    "            if gan_idx % 10 == 0 :\n",
    "                sys.stdout.write(\"\\r\"+f\"Epoch {e}: improving Generator (attempt {gan_idx}) with accuracy of {100.*gen_acc:.0f}%\".ljust(80))\n",
    "                sys.stdout.flush()\n",
    "            gen_loss, gen_acc = gan.train_on_batch(noise, y_real)\n",
    "            gan_idx = gan_idx + 1\n",
    "        if gan_idx > 0 :\n",
    "            sys.stdout.write(\"\\n\")\n",
    "            sys.stdout.flush()\n",
    "        if gan_idx > 49 and gen_acc < 1e-5 :\n",
    "            print(\"\\n-- Replacing generator --\")\n",
    "            gan = replace_generator()\n",
    "            \n",
    "            \n",
    "training(gan, 4000, 300)"
   ]
  },
  {
   "cell_type": "code",
   "execution_count": null,
   "metadata": {},
   "outputs": [],
   "source": []
  }
 ],
 "metadata": {
  "kernelspec": {
   "display_name": "Python 3",
   "language": "python",
   "name": "python3"
  },
  "language_info": {
   "codemirror_mode": {
    "name": "ipython",
    "version": 3
   },
   "file_extension": ".py",
   "mimetype": "text/x-python",
   "name": "python",
   "nbconvert_exporter": "python",
   "pygments_lexer": "ipython3",
   "version": "3.7.3"
  }
 },
 "nbformat": 4,
 "nbformat_minor": 2
}
