{
 "cells": [
  {
   "cell_type": "code",
   "execution_count": 1,
   "metadata": {},
   "outputs": [],
   "source": [
    "import numpy      as     np\n",
    "from   scipy      import stats  as stats\n",
    "from   matplotlib import pyplot as plt"
   ]
  },
  {
   "cell_type": "code",
   "execution_count": 2,
   "metadata": {},
   "outputs": [],
   "source": [
    "num_train = int(1e5)\n",
    "noise_size = 10\n",
    "\n",
    "# Must be length 3 due to lazy hard-coding later on\n",
    "train_masses = [115., 130., 145.]"
   ]
  },
  {
   "cell_type": "code",
   "execution_count": 3,
   "metadata": {},
   "outputs": [],
   "source": [
    "range_min, range_max = 70, 190\n",
    "range_width = range_max - range_min\n",
    "plot_resolution = 0.5\n",
    "\n",
    "w1, m1, s1 = .3, 125, 1.8\n",
    "C2 = -1.\n",
    "w2, A2, B2 = 0., 0., -1.*C2*(range_max-range_min)\n",
    "\n",
    "def bkg_func (x) :\n",
    "    x_prime = x-range_min\n",
    "    return A2 + B2*(x_prime) + C2*np.multiply(x_prime, x_prime)\n",
    "\n",
    "def int_bkg_func (lower, upper) :\n",
    "    lower, upper = lower-range_min, upper-range_min\n",
    "    L = A2*lower + B2*np.multiply(lower, lower)/2. + C2*np.multiply(np.multiply(lower, lower), lower)/3.\n",
    "    U = A2*upper + B2*np.multiply(upper, upper)/2. + C2*np.multiply(np.multiply(upper, upper), upper)/3.\n",
    "    return U - L\n",
    "\n",
    "N_1 = w1 / (w1 + w2) / (stats.norm.cdf(range_max, m1, s1) - stats.norm.cdf(range_min, m1, s1))\n",
    "N_2 = w2 / (w1 + w2) / int_bkg_func(range_min, range_max)\n",
    "\n",
    "def true_pdf (x) :\n",
    "    return N_1*stats.norm.pdf(x, m1, s1) + N_2*bkg_func(x)\n",
    "\n",
    "def true_cdf (x) :\n",
    "    return N_1*stats.norm.cdf(x, m1, s1) + N_2*int_bkg_func(range_min, x)"
   ]
  },
  {
   "cell_type": "code",
   "execution_count": 4,
   "metadata": {},
   "outputs": [],
   "source": [
    "def generate_data (num_pnts, mass=125., resolution=0.01) :\n",
    "    global m1\n",
    "    m1 = mass\n",
    "    x = np.linspace(range_min, range_max, 1+int(1./resolution))\n",
    "    y = true_cdf(x)\n",
    "    p = np.random.uniform(0, 1, size=(num_pnts,))\n",
    "    return np.interp(p, y, x)"
   ]
  },
  {
   "cell_type": "code",
   "execution_count": 5,
   "metadata": {
    "scrolled": false
   },
   "outputs": [],
   "source": [
    "def plot_points (data_115, data_130, data_145, label) :\n",
    "    x = np.linspace(range_min, range_max, 1000)\n",
    "    h0 = plt.hist(data_115, bins=np.linspace(range_min, range_max, 1+int(range_width/plot_resolution)), color=\"blue\"  , density=True, alpha=0.5, label=f\"{label}\"+r\" ($m=\"+f\"{train_masses[0]:.0f}\"+r\"~{\\rm GeV}$)\")\n",
    "    h1 = plt.hist(data_130, bins=np.linspace(range_min, range_max, 1+int(range_width/plot_resolution)), color=\"purple\", density=True, alpha=0.5, label=f\"{label}\"+r\" ($m=\"+f\"{train_masses[1]:.0f}\"+r\"~{\\rm GeV}$)\")\n",
    "    h2 = plt.hist(data_145, bins=np.linspace(range_min, range_max, 1+int(range_width/plot_resolution)), color=\"red\"   , density=True, alpha=0.5, label=f\"{label}\"+r\" ($m=\"+f\"{train_masses[2]:.0f}\"+r\"~{\\rm GeV}$)\")\n",
    "    plt.legend(loc=\"upper right\", fontsize=10)\n",
    "    plt.xlabel(\"x\", size=14, labelpad=15)\n",
    "    plt.ylabel(r\"$\\rho\\left(x\\right)$\", size=14, labelpad=35, rotation=\"horizontal\")\n",
    "    plt.gca().set_xlim([range_min-0.1*range_width, range_max+0.1*range_width])\n",
    "    plt.gca().set_ylim([0, 1.5*max([max(h0[0]), max(h1[0]), max(h2[0])])])\n",
    "    plt.show()"
   ]
  },
  {
   "cell_type": "code",
   "execution_count": 6,
   "metadata": {},
   "outputs": [
    {
     "data": {
      "image/png": "[encoded data removed]",
      "text/plain": [
       "<Figure size 432x288 with 1 Axes>"
      ]
     },
     "metadata": {
      "needs_background": "light"
     },
     "output_type": "display_data"
    }
   ],
   "source": [
    "train_DS_115 = generate_data(num_train, mass=train_masses[0])\n",
    "train_DS_130 = generate_data(num_train, mass=train_masses[1])\n",
    "train_DS_145 = generate_data(num_train, mass=train_masses[2])\n",
    "plot_points(train_DS_115, train_DS_130, train_DS_145, \"Training data\")"
   ]
  },
  {
   "cell_type": "code",
   "execution_count": 7,
   "metadata": {
    "scrolled": true
   },
   "outputs": [
    {
     "name": "stderr",
     "output_type": "stream",
     "text": [
      "Using TensorFlow backend.\n"
     ]
    },
    {
     "name": "stdout",
     "output_type": "stream",
     "text": [
      "WARNING:tensorflow:From /usr/local/lib/python3.7/site-packages/tensorflow/python/ops/resource_variable_ops.py:435: colocate_with (from tensorflow.python.framework.ops) is deprecated and will be removed in a future version.\n",
      "Instructions for updating:\n",
      "Colocations handled automatically by placer.\n",
      "Model: \"Discriminator\"\n",
      "__________________________________________________________________________________________________\n",
      "Layer (type)                    Output Shape         Param #     Connected to                     \n",
      "==================================================================================================\n",
      "input_1 (InputLayer)            (None, 1)            0                                            \n",
      "__________________________________________________________________________________________________\n",
      "input_2 (InputLayer)            (None, 1)            0                                            \n",
      "__________________________________________________________________________________________________\n",
      "dense_1 (Dense)                 (None, 10)           20          input_1[0][0]                    \n",
      "__________________________________________________________________________________________________\n",
      "dense_2 (Dense)                 (None, 10)           20          input_2[0][0]                    \n",
      "__________________________________________________________________________________________________\n",
      "dropout_1 (Dropout)             (None, 10)           0           dense_1[0][0]                    \n",
      "__________________________________________________________________________________________________\n",
      "dropout_2 (Dropout)             (None, 10)           0           dense_2[0][0]                    \n",
      "__________________________________________________________________________________________________\n",
      "concatenate_1 (Concatenate)     (None, 20)           0           dropout_1[0][0]                  \n",
      "                                                                 dropout_2[0][0]                  \n",
      "__________________________________________________________________________________________________\n",
      "dense_3 (Dense)                 (None, 30)           630         concatenate_1[0][0]              \n",
      "__________________________________________________________________________________________________\n",
      "dropout_3 (Dropout)             (None, 30)           0           dense_3[0][0]                    \n",
      "__________________________________________________________________________________________________\n",
      "dense_4 (Dense)                 (None, 15)           465         dropout_3[0][0]                  \n",
      "__________________________________________________________________________________________________\n",
      "dense_5 (Dense)                 (None, 2)            32          dense_4[0][0]                    \n",
      "==================================================================================================\n",
      "Total params: 1,167\n",
      "Trainable params: 1,167\n",
      "Non-trainable params: 0\n",
      "__________________________________________________________________________________________________\n",
      "Model: \"Generator\"\n",
      "__________________________________________________________________________________________________\n",
      "Layer (type)                    Output Shape         Param #     Connected to                     \n",
      "==================================================================================================\n",
      "input_3 (InputLayer)            (None, 10)           0                                            \n",
      "__________________________________________________________________________________________________\n",
      "dense_6 (Dense)                 (None, 20)           220         input_3[0][0]                    \n",
      "__________________________________________________________________________________________________\n",
      "dropout_4 (Dropout)             (None, 20)           0           dense_6[0][0]                    \n",
      "__________________________________________________________________________________________________\n",
      "batch_normalization_1 (BatchNor (None, 20)           80          dropout_4[0][0]                  \n",
      "__________________________________________________________________________________________________\n",
      "input_2 (InputLayer)            (None, 1)            0                                            \n",
      "__________________________________________________________________________________________________\n",
      "dense_7 (Dense)                 (None, 10)           210         batch_normalization_1[0][0]      \n",
      "__________________________________________________________________________________________________\n",
      "dense_8 (Dense)                 (None, 10)           20          input_2[0][0]                    \n",
      "__________________________________________________________________________________________________\n",
      "concatenate_2 (Concatenate)     (None, 20)           0           dense_7[0][0]                    \n",
      "                                                                 dense_8[0][0]                    \n",
      "__________________________________________________________________________________________________\n",
      "dropout_5 (Dropout)             (None, 20)           0           concatenate_2[0][0]              \n",
      "__________________________________________________________________________________________________\n",
      "dense_9 (Dense)                 (None, 50)           1050        dropout_5[0][0]                  \n",
      "__________________________________________________________________________________________________\n",
      "dense_10 (Dense)                (None, 1)            51          dense_9[0][0]                    \n",
      "==================================================================================================\n",
      "Total params: 1,631\n",
      "Trainable params: 1,591\n",
      "Non-trainable params: 40\n",
      "__________________________________________________________________________________________________\n",
      "Model: \"GAN\"\n",
      "__________________________________________________________________________________________________\n",
      "Layer (type)                    Output Shape         Param #     Connected to                     \n",
      "==================================================================================================\n",
      "input_3 (InputLayer)            (None, 10)           0                                            \n",
      "__________________________________________________________________________________________________\n",
      "input_2 (InputLayer)            (None, 1)            0                                            \n",
      "__________________________________________________________________________________________________\n",
      "Generator (Model)               (None, 1)            1631        input_3[0][0]                    \n",
      "                                                                 input_2[0][0]                    \n",
      "__________________________________________________________________________________________________\n",
      "Discriminator (Model)           (None, 2)            1167        Generator[1][0]                  \n",
      "                                                                 input_2[0][0]                    \n",
      "==================================================================================================\n",
      "Total params: 2,798\n",
      "Trainable params: 1,591\n",
      "Non-trainable params: 1,207\n",
      "__________________________________________________________________________________________________\n"
     ]
    }
   ],
   "source": [
    "from keras.layers     import BatchNormalization, Dense, Dropout, Input, LeakyReLU, Concatenate\n",
    "from keras.models     import Model, Sequential\n",
    "from keras.optimizers import Adam, SGD\n",
    "\n",
    "import keras.backend as K\n",
    "\n",
    "\n",
    "d1_in = Input((1,))\n",
    "d1 = Dense(10, activation=\"relu\")(d1_in)\n",
    "d1 = Dropout(0.2)(d1)\n",
    "\n",
    "hyper_in = Input((1,))\n",
    "d2 = Dense(10, activation=\"relu\")(hyper_in)\n",
    "d2 = Dropout(0.2)(d2)\n",
    "\n",
    "dc = Concatenate()([d1, d2])\n",
    "dc = Dense(30 , activation=\"relu\")(dc)\n",
    "dc = Dropout(0.2)(dc)\n",
    "dc = Dense(15 , activation=\"relu\")(dc)\n",
    "dc = Dense(2, activation=\"softmax\")(dc)\n",
    "\n",
    "dc = Model(name=\"Discriminator\", inputs=[d1_in, hyper_in], outputs=[dc])\n",
    "dc.compile(loss=\"categorical_crossentropy\", optimizer=Adam(0.0005, beta_1=0.3), metrics=[\"accuracy\"])\n",
    "# 0.0005, beta_1=0.5\n",
    "dc.summary()\n",
    "\n",
    "\n",
    "g1_in = Input((noise_size,))\n",
    "g1 = Dense(20, activation=\"relu\")(g1_in)\n",
    "g1 = Dropout(0.2)(g1)\n",
    "g1 = BatchNormalization()(g1)\n",
    "g1 = Dense(10, activation=\"relu\")(g1)\n",
    "\n",
    "g2 = Dense(10, activation=\"relu\")(hyper_in)\n",
    "\n",
    "gc = Concatenate()([g1, g2])\n",
    "gc = Dropout(0.2)(gc)\n",
    "gc = Dense(50, activation=\"relu\")(gc)\n",
    "gc = Dense(1, activation=\"linear\")(gc)\n",
    "\n",
    "gc = Model(name=\"Generator\", inputs=[g1_in, hyper_in], outputs=[gc])\n",
    "gc.summary()\n",
    "\n",
    "\n",
    "gan_out = dc([gc([g1_in, hyper_in]), hyper_in])\n",
    "gan = Model([g1_in, hyper_in], gan_out, name=\"GAN\")\n",
    "dc.trainable = False\n",
    "gan.compile(loss=\"categorical_crossentropy\", optimizer=Adam(0.0005, beta_1=0.3), metrics=[\"accuracy\"])\n",
    "gan.summary()"
   ]
  },
  {
   "cell_type": "code",
   "execution_count": 8,
   "metadata": {},
   "outputs": [],
   "source": [
    "def plot_points_GAN (gen_data, train_data, epoch, batch_size, d_acc) :\n",
    "    gen_class_length = int(gen_data.shape[0]/3)\n",
    "    gen_data_115 = gen_data[:gen_class_length                    ,0]\n",
    "    gen_data_130 = gen_data[gen_class_length  :2*gen_class_length,0]\n",
    "    gen_data_145 = gen_data[2*gen_class_length:3*gen_class_length,0]\n",
    "    tr_class_length = int(train_data.shape[0]/3)\n",
    "    train_data_115 = train_data[:tr_class_length                   ,0]\n",
    "    train_data_130 = train_data[tr_class_length  :2*tr_class_length,0]\n",
    "    train_data_145 = train_data[2*tr_class_length:3*tr_class_length,0]\n",
    "    print(np.mean(gen_data_115), np.std(gen_data_115))\n",
    "    print(np.mean(gen_data_130), np.std(gen_data_130))\n",
    "    print(np.mean(gen_data_145), np.std(gen_data_145))\n",
    "    fig = plt.figure(figsize=(15,5))\n",
    "    fig.add_subplot(1, 2, 1)\n",
    "    h0 = plt.hist(gen_data_115, bins=np.linspace(range_min, range_max, 1+int(range_width/plot_resolution)), color=\"blue\"  , density=True, label=r\"Generated data ($m=\"+f\"{train_masses[0]:.0f}\"+r\"~{\\rm GeV}$)\")\n",
    "    h1 = plt.hist(gen_data_130, bins=np.linspace(range_min, range_max, 1+int(range_width/plot_resolution)), color=\"purple\", density=True, label=r\"Generated data ($m=\"+f\"{train_masses[1]:.0f}\"+r\"~{\\rm GeV}$)\")\n",
    "    h2 = plt.hist(gen_data_145, bins=np.linspace(range_min, range_max, 1+int(range_width/plot_resolution)), color=\"red\"   , density=True, label=r\"Generated data ($m=\"+f\"{train_masses[2]:.0f}\"+r\"~{\\rm GeV}$)\")\n",
    "    plt.legend(loc=\"upper right\", fontsize=10)\n",
    "    plt.xlabel(\"x\", size=14, labelpad=10)\n",
    "    plt.ylabel(r\"$\\rho\\left(x\\right)$\", size=14, labelpad=30, rotation=\"horizontal\")\n",
    "    plt.gca().set_xlim([range_min-0.1*range_width, range_max+0.1*range_width])\n",
    "    y_max = 1.5*np.max([max(h0[0]), max(h1[0]), max(h2[0])])\n",
    "    if np.isnan(y_max) : y_max = 1.0\n",
    "    plt.gca().set_ylim([0, y_max])\n",
    "    plt.text(range_min+0.*1.1*range_width   , 0.88*y_max, \"Conditional\", size=14, style=\"italic\", weight=\"bold\")\n",
    "    plt.text(range_min+0.*1.1*range_width   , 0.80*y_max, \"GAN test\", size=18, style=\"italic\", weight=\"bold\")\n",
    "    plt.text(range_min+0.780*1.1*range_width, 0.68*y_max, f\"Epoch: {epoch}\")\n",
    "    plt.text(range_min+0.713*1.1*range_width, 0.61*y_max, f\"Batch size: {gen_class_length}\")\n",
    "    plt.text(range_min+0.810*1.1*range_width, 0.54*y_max, r\"$\\epsilon_{\\rm disc}$: \"+f\"{int(100.*d_acc)}%\")\n",
    "    plt.subplots_adjust(left=0.18, right=0.98, top=0.95, bottom=0.15)\n",
    "    fig.add_subplot(1, 2, 2)\n",
    "    h0_2 = plt.hist(train_data_115, bins=np.linspace(range_min, range_max, 1+int(range_width/plot_resolution)), color=\"blue\"  , density=True, label=r\"Training data ($m=\"+f\"{train_masses[0]:.0f}\"+r\"~{\\rm GeV}$)\")\n",
    "    h1_2 = plt.hist(train_data_130, bins=np.linspace(range_min, range_max, 1+int(range_width/plot_resolution)), color=\"purple\", density=True, label=r\"Training data ($m=\"+f\"{train_masses[1]:.0f}\"+r\"~{\\rm GeV}$)\")\n",
    "    h2_2 = plt.hist(train_data_145, bins=np.linspace(range_min, range_max, 1+int(range_width/plot_resolution)), color=\"red\"   , density=True, label=r\"Training data ($m=\"+f\"{train_masses[2]:.0f}\"+r\"~{\\rm GeV}$)\")\n",
    "    plt.legend(loc=\"upper right\", fontsize=10)\n",
    "    plt.xlabel(\"x\", size=14, labelpad=10)\n",
    "    plt.gca().set_xlim([range_min-0.1*range_width, range_max+0.1*range_width])\n",
    "    y_max = 1.5*np.max([max(h0_2[0]), max(h1_2[0]), max(h2_2[0])])\n",
    "    if np.isnan(y_max) : y_max = 1.0\n",
    "    plt.gca().set_ylim([0, y_max])\n",
    "    plt.text(range_min+0.*1.1*range_width   , 0.88*y_max, \"Conditional\", size=14, style=\"italic\", weight=\"bold\")\n",
    "    plt.text(range_min+0.*1.1*range_width   , 0.80*y_max, \"GAN test\", size=18, style=\"italic\", weight=\"bold\")\n",
    "    plt.text(range_min+0.780*1.1*range_width, 0.68*y_max, f\"Epoch: {epoch}\")\n",
    "    plt.text(range_min+0.713*1.1*range_width, 0.61*y_max, f\"Batch size: {tr_class_length}\")\n",
    "    plt.text(range_min+0.810*1.1*range_width, 0.54*y_max, r\"$\\epsilon_{\\rm disc}$: \"+f\"{int(100.*d_acc)}%\")\n",
    "    plt.subplots_adjust(left=0.18, right=0.98, top=0.95, bottom=0.15)\n",
    "    plt.savefig(f\"out/1D_GAN_test/Train_epoch{epoch}.png\", dpi=96)\n",
    "    plt.show()"
   ]
  },
  {
   "cell_type": "code",
   "execution_count": 10,
   "metadata": {
    "scrolled": false
   },
   "outputs": [
    {
     "name": "stdout",
     "output_type": "stream",
     "text": [
      "114.95658 1.0662272\n",
      "129.84056 0.9985386\n",
      "144.4736 0.97711\n"
     ]
    },
    {
     "data": {
      "image/png": "[encoded data removed]",
      "text/plain": [
       "<Figure size 1080x360 with 2 Axes>"
      ]
     },
     "metadata": {
      "needs_background": "light"
     },
     "output_type": "display_data"
    },
    {
     "ename": "KeyboardInterrupt",
     "evalue": "",
     "output_type": "error",
     "traceback": [
      "\u001b[0;31m---------------------------------------------------------------------------\u001b[0m",
      "\u001b[0;31mKeyboardInterrupt\u001b[0m                         Traceback (most recent call last)",
      "\u001b[0;32m<ipython-input-10-7547c002876f>\u001b[0m in \u001b[0;36m<module>\u001b[0;34m\u001b[0m\n\u001b[1;32m     32\u001b[0m     \u001b[0mgen_DS\u001b[0m   \u001b[0;34m=\u001b[0m \u001b[0mgc\u001b[0m\u001b[0;34m.\u001b[0m\u001b[0mpredict\u001b[0m\u001b[0;34m(\u001b[0m\u001b[0;34m[\u001b[0m\u001b[0mnoise\u001b[0m\u001b[0;34m,\u001b[0m \u001b[0mnoise_hyperparams\u001b[0m\u001b[0;34m]\u001b[0m\u001b[0;34m)\u001b[0m\u001b[0;34m\u001b[0m\u001b[0;34m\u001b[0m\u001b[0m\n\u001b[1;32m     33\u001b[0m     \u001b[0mreal_label\u001b[0m  \u001b[0;34m=\u001b[0m \u001b[0mnp\u001b[0m\u001b[0;34m.\u001b[0m\u001b[0marray\u001b[0m\u001b[0;34m(\u001b[0m\u001b[0;34m[\u001b[0m\u001b[0;34m[\u001b[0m\u001b[0;36m1.\u001b[0m\u001b[0;34m,\u001b[0m \u001b[0;36m0.\u001b[0m\u001b[0;34m]\u001b[0m \u001b[0;32mfor\u001b[0m \u001b[0mi\u001b[0m \u001b[0;32min\u001b[0m \u001b[0mrange\u001b[0m\u001b[0;34m(\u001b[0m\u001b[0;36m3\u001b[0m\u001b[0;34m*\u001b[0m\u001b[0mrel_batch_size\u001b[0m\u001b[0;34m*\u001b[0m\u001b[0mbatch_size\u001b[0m\u001b[0;34m)\u001b[0m\u001b[0;34m]\u001b[0m\u001b[0;34m)\u001b[0m\u001b[0;34m\u001b[0m\u001b[0;34m\u001b[0m\u001b[0m\n\u001b[0;32m---> 34\u001b[0;31m     \u001b[0mfake_label\u001b[0m  \u001b[0;34m=\u001b[0m \u001b[0mnp\u001b[0m\u001b[0;34m.\u001b[0m\u001b[0marray\u001b[0m\u001b[0;34m(\u001b[0m\u001b[0;34m[\u001b[0m\u001b[0;34m[\u001b[0m\u001b[0;36m0.\u001b[0m\u001b[0;34m,\u001b[0m \u001b[0;36m1.\u001b[0m\u001b[0;34m]\u001b[0m \u001b[0;32mfor\u001b[0m \u001b[0mi\u001b[0m \u001b[0;32min\u001b[0m \u001b[0mrange\u001b[0m\u001b[0;34m(\u001b[0m\u001b[0;36m3\u001b[0m\u001b[0;34m*\u001b[0m\u001b[0mbatch_size\u001b[0m\u001b[0;34m)\u001b[0m\u001b[0;34m]\u001b[0m\u001b[0;34m)\u001b[0m\u001b[0;34m\u001b[0m\u001b[0;34m\u001b[0m\u001b[0m\n\u001b[0m\u001b[1;32m     35\u001b[0m     \u001b[0mtrain_label\u001b[0m \u001b[0;34m=\u001b[0m \u001b[0mnp\u001b[0m\u001b[0;34m.\u001b[0m\u001b[0marray\u001b[0m\u001b[0;34m(\u001b[0m\u001b[0;34m[\u001b[0m\u001b[0;34m[\u001b[0m\u001b[0;36m1.\u001b[0m\u001b[0;34m,\u001b[0m \u001b[0;36m0.\u001b[0m\u001b[0;34m]\u001b[0m \u001b[0;32mfor\u001b[0m \u001b[0mi\u001b[0m \u001b[0;32min\u001b[0m \u001b[0mrange\u001b[0m\u001b[0;34m(\u001b[0m\u001b[0;36m3\u001b[0m\u001b[0;34m*\u001b[0m\u001b[0mbatch_size\u001b[0m\u001b[0;34m)\u001b[0m\u001b[0;34m]\u001b[0m\u001b[0;34m)\u001b[0m\u001b[0;34m\u001b[0m\u001b[0;34m\u001b[0m\u001b[0m\n\u001b[1;32m     36\u001b[0m     \u001b[0mX\u001b[0m  \u001b[0;34m=\u001b[0m \u001b[0mnp\u001b[0m\u001b[0;34m.\u001b[0m\u001b[0mconcatenate\u001b[0m\u001b[0;34m(\u001b[0m\u001b[0;34m[\u001b[0m\u001b[0mbatch_DS\u001b[0m  \u001b[0;34m,\u001b[0m \u001b[0mgen_DS\u001b[0m    \u001b[0;34m]\u001b[0m\u001b[0;34m)\u001b[0m\u001b[0;34m\u001b[0m\u001b[0;34m\u001b[0m\u001b[0m\n",
      "\u001b[0;31mKeyboardInterrupt\u001b[0m: "
     ]
    }
   ],
   "source": [
    "#  Train GAN\n",
    "\n",
    "epochs     = 10000\n",
    "batch_size = 100\n",
    "rel_batch_size = 1\n",
    "max_D_itrs_per_G_itr_e80 = 2\n",
    "max_D_itrs_per_G_itr_e52 = 3\n",
    "\n",
    "def update_batch_size (gen_DS, e) :\n",
    "    global batch_size\n",
    "    #batch_size = min(max(batch_size, 100+int((e+1)/10.)), num_train)\n",
    "    \n",
    "def get_noise () :\n",
    "    hyperparams = np.concatenate([np.full(fill_value=train_masses[0], shape=(batch_size, 1)),\n",
    "                                  np.full(fill_value=train_masses[1], shape=(batch_size, 1)),\n",
    "                                  np.full(fill_value=train_masses[2], shape=(batch_size, 1))])\n",
    "    return np.random.normal(size=(3*batch_size, noise_size)), hyperparams\n",
    "\n",
    "def get_train_data () :\n",
    "    batch_115 = train_DS_115[np.random.randint(0, len(train_DS_115), rel_batch_size*batch_size)].reshape(rel_batch_size*batch_size, 1)\n",
    "    batch_130 = train_DS_130[np.random.randint(0, len(train_DS_130), rel_batch_size*batch_size)].reshape(rel_batch_size*batch_size, 1)\n",
    "    batch_145 = train_DS_145[np.random.randint(0, len(train_DS_145), rel_batch_size*batch_size)].reshape(rel_batch_size*batch_size, 1)\n",
    "    hyperparams = np.concatenate([np.full(fill_value=train_masses[0], shape=(rel_batch_size*batch_size, 1)),\n",
    "                                  np.full(fill_value=train_masses[1], shape=(rel_batch_size*batch_size, 1)),\n",
    "                                  np.full(fill_value=train_masses[2], shape=(rel_batch_size*batch_size, 1))])\n",
    "    return np.concatenate([batch_115, batch_130, batch_145]), hyperparams\n",
    "  \n",
    "epochs_saved = []\n",
    "for e in range(epochs) :\n",
    "    noise, noise_hyperparams    = get_noise()\n",
    "    batch_DS, batch_hyperparams = get_train_data()\n",
    "    gen_DS   = gc.predict([noise, noise_hyperparams])\n",
    "    real_label  = np.array([[1., 0.] for i in range(3*rel_batch_size*batch_size)])\n",
    "    fake_label  = np.array([[0., 1.] for i in range(3*batch_size)])\n",
    "    train_label = np.array([[1., 0.] for i in range(3*batch_size)])\n",
    "    X  = np.concatenate([batch_DS  , gen_DS    ])\n",
    "    Xh = np.concatenate([batch_hyperparams  , noise_hyperparams    ])\n",
    "    Y = np.concatenate([real_label, fake_label])\n",
    "    W = np.concatenate([np.ones(shape=(batch_DS.shape[0],)), np.full(fill_value=rel_batch_size, shape=(gen_DS.shape[0],))])\n",
    "    \n",
    "    dc.trainable = True\n",
    "    d_loss, d_acc = dc.train_on_batch([X, Xh], Y, sample_weight=W)\n",
    "    num_itr = 0\n",
    "    while num_itr < max_D_itrs_per_G_itr_e80 and d_acc < 0.8 :\n",
    "        d_loss, d_acc = dc.train_on_batch([X, Xh], Y, sample_weight=W)\n",
    "        num_itr = num_itr + 1\n",
    "    while num_itr < max_D_itrs_per_G_itr_e52 and d_acc < 0.52 :\n",
    "        d_loss, d_acc = dc.train_on_batch([X, Xh], Y, sample_weight=W)\n",
    "        num_itr = num_itr + 1\n",
    "        \n",
    "    noise, noise_hyperparams = get_noise()\n",
    "    dc.trainable = False\n",
    "    gan.train_on_batch([noise, noise_hyperparams], train_label)\n",
    "    \n",
    "    if e == 0 or (e+1) % 200 == 0 :\n",
    "        noise, noise_hyperparams = get_noise()\n",
    "        gen_DS = gc.predict([noise, noise_hyperparams])\n",
    "        plot_points_GAN(\n",
    "                    gen_DS,\n",
    "                    batch_DS,\n",
    "                    epoch=e+1, \n",
    "                    batch_size=batch_size, \n",
    "                    d_acc=dc.evaluate([X, Xh], Y, sample_weight=W, verbose=0)[1])\n",
    "        update_batch_size(gen_DS, e)\n",
    "        epochs_saved.append(e+1)\n",
    "\n"
   ]
  },
  {
   "cell_type": "code",
   "execution_count": 11,
   "metadata": {},
   "outputs": [
    {
     "data": {
      "image/png": "[encoded data removed]",
      "text/plain": [
       "<Figure size 432x288 with 1 Axes>"
      ]
     },
     "metadata": {
      "needs_background": "light"
     },
     "output_type": "display_data"
    },
    {
     "name": "stdout",
     "output_type": "stream",
     "text": [
      "          MASS = 127.0\n",
      "GENERATED MEAN = 127.2\n"
     ]
    }
   ],
   "source": [
    "mass = 127.\n",
    "\n",
    "hyperparams = np.full(fill_value=mass, shape=(10000, 1))\n",
    "z = np.random.normal(size=(10000, noise_size))\n",
    "datapoints = gc.predict([z, hyperparams])[:,0]\n",
    "\n",
    "plt.hist(datapoints, bins=np.linspace(min(datapoints)-10, max(datapoints)+10, 401))\n",
    "plt.show()\n",
    "\n",
    "print(f\"          MASS = {mass}\")\n",
    "print(f\"GENERATED MEAN = {np.mean(datapoints):.1f}\")"
   ]
  },
  {
   "cell_type": "code",
   "execution_count": null,
   "metadata": {},
   "outputs": [],
   "source": []
  },
  {
   "cell_type": "code",
   "execution_count": null,
   "metadata": {},
   "outputs": [],
   "source": []
  },
  {
   "cell_type": "code",
   "execution_count": null,
   "metadata": {},
   "outputs": [],
   "source": []
  }
 ],
 "metadata": {
  "kernelspec": {
   "display_name": "Python 3",
   "language": "python",
   "name": "python3"
  },
  "language_info": {
   "codemirror_mode": {
    "name": "ipython",
    "version": 3
   },
   "file_extension": ".py",
   "mimetype": "text/x-python",
   "name": "python",
   "nbconvert_exporter": "python",
   "pygments_lexer": "ipython3",
   "version": "3.7.3"
  }
 },
 "nbformat": 4,
 "nbformat_minor": 2
}
